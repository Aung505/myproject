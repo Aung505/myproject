{
  "nbformat": 4,
  "nbformat_minor": 0,
  "metadata": {
    "colab": {
      "name": "Untitled15.ipynb",
      "provenance": [],
      "authorship_tag": "ABX9TyNxYEfGdQfQwYqJEIGKpYiC",
      "include_colab_link": true
    },
    "kernelspec": {
      "name": "python3",
      "display_name": "Python 3"
    }
  },
  "cells": [
    {
      "cell_type": "markdown",
      "metadata": {
        "id": "view-in-github",
        "colab_type": "text"
      },
      "source": [
        "<a href=\"https://colab.research.google.com/github/Aung505/myproject/blob/master/lab6.ipynb\" target=\"_parent\"><img src=\"https://colab.research.google.com/assets/colab-badge.svg\" alt=\"Open In Colab\"/></a>"
      ]
    },
    {
      "cell_type": "code",
      "metadata": {
        "id": "ZcOFvdmlq5Hl",
        "colab_type": "code",
        "colab": {
          "base_uri": "https://localhost:8080/",
          "height": 35
        },
        "outputId": "a0e33d44-c8db-4e2f-d7e6-caedce0c85bb"
      },
      "source": [
        "%tensorflow_version 1.x"
      ],
      "execution_count": 1,
      "outputs": [
        {
          "output_type": "stream",
          "text": [
            "TensorFlow 1.x selected.\n"
          ],
          "name": "stdout"
        }
      ]
    },
    {
      "cell_type": "code",
      "metadata": {
        "id": "m7hM7ADrrC-x",
        "colab_type": "code",
        "colab": {}
      },
      "source": [
        "import numpy as np\n",
        "import random\n",
        "import math\n",
        "import tensorflow as tf\n",
        "import matplotlib.pyplot as plt"
      ],
      "execution_count": 0,
      "outputs": []
    },
    {
      "cell_type": "code",
      "metadata": {
        "id": "8PrdC824rJ5D",
        "colab_type": "code",
        "colab": {}
      },
      "source": [
        "\n",
        "def generate_x_y_data_v1(isTrain, batch_size):\n",
        "    seq_length = 10\n",
        "    \n",
        "    batch_x = []\n",
        "    batch_y = []\n",
        "    for _ in range(batch_size): \n",
        "        # Одна итерация цикла генерирует 1 пакет данных \n",
        "        rand = random.random() * 2 * math.pi\n",
        "        \n",
        "        # Генерируем набор данных по заданному закону\n",
        "        # генерирует набор точек, равномерно распредленных по заданному интервалу \n",
        "        # (границы интервала смещены на случайную величину)\n",
        "        sig1 = np.sin(np.linspace(0.0 * math.pi + rand , 3.0 * math.pi + rand , seq_length * 2))\n",
        "        sig2 = np.cos(np.linspace(0.0 * math.pi + rand , 3.0 * math.pi + rand , seq_length * 2))\n",
        "        \n",
        "        # первую половину сигналов берем на обучающую выборку, вторую - на контрольную\n",
        "        x1 = sig1[:seq_length]\n",
        "        y1 = sig1[seq_length:]\n",
        "        x2 = sig2[:seq_length]\n",
        "        y2 = sig2[seq_length:]\n",
        "        \n",
        "        x_ = np.array([x1, x2])\n",
        "        y_ = np.array([y1, y2])\n",
        "        x_, y_ = x_.T, y_.T\n",
        "    \n",
        "        batch_x.append(x_)\n",
        "        batch_y.append(y_)\n",
        "    \n",
        "    batch_x = np.array(batch_x)\n",
        "    batch_y = np.array(batch_y) \n",
        "    # размерность: (batch_size , seq_length , output_dim)\n",
        "    # транспонируем, чтобы привести к нужной размерности\n",
        "    batch_x = np.array(batch_x).transpose((1, 0, 2))\n",
        "    batch_y = np.array(batch_y).transpose((1, 0, 2)) \n",
        "    # размерность: (seq_length , batch_size , output_dim)\n",
        "    \n",
        "    return batch_x , batch_y"
      ],
      "execution_count": 0,
      "outputs": []
    },
    {
      "cell_type": "code",
      "metadata": {
        "id": "7TXy4n3arRVq",
        "colab_type": "code",
        "colab": {}
      },
      "source": [
        "\n",
        "# Данные имеют размерность (seq_length , batch_size , output_dim) \n",
        "sample_x , sample_y = generate_x_y_data_v1(isTrain=True , batch_size=3)\n",
        "\n",
        "# Длина последовательности (в данных примерах одинаковая для обучающих и тестовых данных)\n",
        "seq_length = sample_x.shape[0] \n",
        "\n",
        "# Размер пакета количество(тестовых примеров), по которому усредняется градиент\n",
        "batch_size = 5\n",
        "# Размерность выходных данных \n",
        "output_dim = input_dim = sample_x.shape[-1]\n",
        "# Количество скрытых нейронов в каждой ячейке\n",
        "hidden_dim = 12\n",
        "# Количество ячеек рекуррентной сети (в глубину)\n",
        "layers_stacked_count = 2\n",
        "\n",
        "# Параметры оптимизатора \n",
        "# Скорость обучения маленькая (скорость обучения позволяет алгоритму не расходиться во время обучения)\n",
        "learning_rate = 0.05\n",
        "# Количество итераций по обучающей выборке \n",
        "nb_iters = 2000\n",
        "# Дополнительные параметры алгоритма оптимизации\n",
        "lr_decay = 0.8\n",
        "momentum = 0.3\n",
        "# Коэффициент L2 регуляризации\n",
        "lambda_l2_reg = 0.003"
      ],
      "execution_count": 0,
      "outputs": []
    },
    {
      "cell_type": "code",
      "metadata": {
        "id": "Feo5n0KfrUg3",
        "colab_type": "code",
        "colab": {
          "base_uri": "https://localhost:8080/",
          "height": 156
        },
        "outputId": "db7e0056-f6fa-466f-8b71-909a77ad25cf"
      },
      "source": [
        "\n",
        "tf.nn.seq2seq = tf.contrib.legacy_seq2seq\n",
        "tf.nn.rnn_cell = tf.contrib.rnn\n",
        "tf.nn.rnn_cell.GRUCell = tf.contrib.rnn.GRUCell"
      ],
      "execution_count": 6,
      "outputs": [
        {
          "output_type": "stream",
          "text": [
            "WARNING:tensorflow:\n",
            "The TensorFlow contrib module will not be included in TensorFlow 2.0.\n",
            "For more information, please see:\n",
            "  * https://github.com/tensorflow/community/blob/master/rfcs/20180907-contrib-sunset.md\n",
            "  * https://github.com/tensorflow/addons\n",
            "  * https://github.com/tensorflow/io (for I/O related ops)\n",
            "If you depend on functionality not listed there, please file an issue.\n",
            "\n"
          ],
          "name": "stdout"
        }
      ]
    },
    {
      "cell_type": "code",
      "metadata": {
        "id": "ASJn769mralu",
        "colab_type": "code",
        "colab": {}
      },
      "source": [
        "tf.reset_default_graph()\n",
        "# интерактивная сессия\n",
        "sess = tf.InteractiveSession()"
      ],
      "execution_count": 0,
      "outputs": []
    },
    {
      "cell_type": "code",
      "metadata": {
        "id": "-tZMSI1ErcsD",
        "colab_type": "code",
        "colab": {
          "base_uri": "https://localhost:8080/",
          "height": 349
        },
        "outputId": "8b8259fc-a06e-4b70-95bb-68d66e90d3a5"
      },
      "source": [
        "with tf.variable_scope('Seq2seq'):\n",
        "    enc_inp = [\n",
        "        tf.placeholder(tf.float32, shape=(None, input_dim), name=\"inp_{}\".format(t))\n",
        "            for t in range(seq_length)\n",
        "    ]\n",
        "\n",
        "    expected_sparse_output = [\n",
        "        tf.placeholder(tf.float32 , shape=(None , output_dim), name=\"expected_sparse_output_\".format(t))\n",
        "            for t in range(seq_length)\n",
        "    ]\n",
        "    \n",
        "    dec_inp = [ tf.zeros_like(enc_inp[0], dtype=np.float32 , name=\"GO\") ] + enc_inp[:-1]\n",
        "    \n",
        "    cells = []\n",
        "    for i in range(layers_stacked_count):\n",
        "        with tf.variable_scope('RNN_{}'.format(i)):\n",
        "            cells.append(tf.nn.rnn_cell.GRUCell(hidden_dim))\n",
        "            \n",
        "    cell = tf.nn.rnn_cell.MultiRNNCell(cells)\n",
        "    \n",
        "    w_in = tf.Variable(tf.random_normal([input_dim , hidden_dim]))\n",
        "    b_in = tf.Variable(tf.random_normal([hidden_dim], mean=1.0))\n",
        "    w_out = tf.Variable(tf.random_normal([hidden_dim , output_dim]))\n",
        "    b_out = tf.Variable(tf.random_normal([output_dim]))\n",
        "\n",
        "    reshaped_inputs = [tf.nn.relu(tf.matmul(i, w_in) + b_in) for i in enc_inp]\n",
        "    \n",
        "    dec_outputs, dec_memory = tf.nn.seq2seq.basic_rnn_seq2seq(enc_inp, dec_inp, cell)\n",
        "    \n",
        "    output_scale_factor = tf.Variable(1.0, name=\"Output_ScaleFactor\")\n",
        "    reshaped_outputs = [output_scale_factor * (tf.matmul(i, w_out) + b_out) for i in dec_outputs]"
      ],
      "execution_count": 8,
      "outputs": [
        {
          "output_type": "stream",
          "text": [
            "WARNING:tensorflow:From <ipython-input-8-a9e263b0cf24>:17: GRUCell.__init__ (from tensorflow.python.ops.rnn_cell_impl) is deprecated and will be removed in a future version.\n",
            "Instructions for updating:\n",
            "This class is equivalent as tf.keras.layers.GRUCell, and will be replaced by that in Tensorflow 2.0.\n",
            "WARNING:tensorflow:From <ipython-input-8-a9e263b0cf24>:19: MultiRNNCell.__init__ (from tensorflow.python.ops.rnn_cell_impl) is deprecated and will be removed in a future version.\n",
            "Instructions for updating:\n",
            "This class is equivalent as tf.keras.layers.StackedRNNCells, and will be replaced by that in Tensorflow 2.0.\n",
            "WARNING:tensorflow:From /tensorflow-1.15.2/python3.6/tensorflow_core/contrib/legacy_seq2seq/python/ops/seq2seq.py:186: static_rnn (from tensorflow.python.ops.rnn) is deprecated and will be removed in a future version.\n",
            "Instructions for updating:\n",
            "Please use `keras.layers.RNN(cell, unroll=True)`, which is equivalent to this API\n",
            "WARNING:tensorflow:From /tensorflow-1.15.2/python3.6/tensorflow_core/python/ops/rnn_cell_impl.py:559: Layer.add_variable (from tensorflow.python.keras.engine.base_layer) is deprecated and will be removed in a future version.\n",
            "Instructions for updating:\n",
            "Please use `layer.add_weight` method instead.\n",
            "WARNING:tensorflow:From /tensorflow-1.15.2/python3.6/tensorflow_core/python/ops/rnn_cell_impl.py:565: calling Constant.__init__ (from tensorflow.python.ops.init_ops) with dtype is deprecated and will be removed in a future version.\n",
            "Instructions for updating:\n",
            "Call initializer instance with the dtype argument instead of passing it to the constructor\n",
            "WARNING:tensorflow:From /tensorflow-1.15.2/python3.6/tensorflow_core/python/ops/rnn_cell_impl.py:575: calling Zeros.__init__ (from tensorflow.python.ops.init_ops) with dtype is deprecated and will be removed in a future version.\n",
            "Instructions for updating:\n",
            "Call initializer instance with the dtype argument instead of passing it to the constructor\n"
          ],
          "name": "stdout"
        }
      ]
    },
    {
      "cell_type": "code",
      "metadata": {
        "id": "hpgYtYycrix6",
        "colab_type": "code",
        "colab": {}
      },
      "source": [
        "\n",
        "with tf.variable_scope('Loss'):\n",
        "    # L2 loss\n",
        "    output_loss = 0\n",
        "    for _y, _Y in zip(reshaped_outputs, expected_sparse_output):\n",
        "        output_loss += tf.reduce_mean(tf.nn.l2_loss(_y - _Y))\n",
        "\n",
        "    # слагаемое, отвечающее за L2 регуляризацию\n",
        "    reg_loss = 0\n",
        "    for tf_var in tf.trainable_variables():\n",
        "        if not (\"Bias\" in tf_var.name or \"Output_\" in tf_var.name):\n",
        "            reg_loss += tf.reduce_mean(tf.nn.l2_loss(tf_var))\n",
        "\n",
        "    loss = output_loss  + lambda_l2_reg * reg_loss"
      ],
      "execution_count": 0,
      "outputs": []
    },
    {
      "cell_type": "code",
      "metadata": {
        "id": "FWSP4PA9rloJ",
        "colab_type": "code",
        "colab": {
          "base_uri": "https://localhost:8080/",
          "height": 89
        },
        "outputId": "194b4a2c-e0b8-4cf2-98c9-c224b785c40c"
      },
      "source": [
        "\n",
        "with tf.variable_scope('Optimizer'):\n",
        "    optimizer = tf.train.RMSPropOptimizer(learning_rate, decay=lr_decay, momentum=momentum)\n",
        "    train_op = optimizer.minimize(loss)"
      ],
      "execution_count": 10,
      "outputs": [
        {
          "output_type": "stream",
          "text": [
            "WARNING:tensorflow:From /tensorflow-1.15.2/python3.6/tensorflow_core/python/training/rmsprop.py:119: calling Ones.__init__ (from tensorflow.python.ops.init_ops) with dtype is deprecated and will be removed in a future version.\n",
            "Instructions for updating:\n",
            "Call initializer instance with the dtype argument instead of passing it to the constructor\n"
          ],
          "name": "stdout"
        }
      ]
    },
    {
      "cell_type": "code",
      "metadata": {
        "id": "K72R_NwprrXH",
        "colab_type": "code",
        "colab": {}
      },
      "source": [
        "\n",
        "# Шаг обучения, который оптимизирует веса в соответствии с переданным минипакетом-примеров\n",
        "def train_batch(batch_size):\n",
        "    X, Y = generate_x_y_data_v1(isTrain=True , batch_size=batch_size)\n",
        "    feed_dict = {enc_inp[t]: X[t] for t in range(len(enc_inp))} \n",
        "    feed_dict.update({expected_sparse_output[t]: Y[t] for t in range(len(expected_sparse_output))}) \n",
        "    #  запускаем сессию. При этом рассчитываются тензоры, указанные в первом параметре, \n",
        "    # а значения для них берутся из второго параметра\n",
        "    _, loss_t = sess.run([train_op , loss], feed_dict)\n",
        "    \n",
        "    return loss_t"
      ],
      "execution_count": 0,
      "outputs": []
    },
    {
      "cell_type": "code",
      "metadata": {
        "id": "27QeuO5ortW_",
        "colab_type": "code",
        "colab": {
          "base_uri": "https://localhost:8080/",
          "height": 1000
        },
        "outputId": "8cf95d71-365d-45d7-d5fa-27ef2296baf2"
      },
      "source": [
        "# Тестовый прогон. Веса не обновляются благодаря тому, что переменная train_op не передается в sess.run\n",
        "def test_batch(batch_size, graph=False): \n",
        "    X, Y = generate_x_y_data_v1(isTrain=False, batch_size=batch_size)\n",
        "    feed_dict = {enc_inp[t]: X[t] for t in range(len(enc_inp))}\n",
        "    feed_dict.update({expected_sparse_output[t]: Y[t] for t in range(len(expected_sparse_output))}) \n",
        "    loss_t = sess.run([loss], feed_dict)\n",
        "    \n",
        "    return loss_t[0]\n",
        "\n",
        "train_losses = []\n",
        "test_losses = []\n",
        "sess.run(tf.global_variables_initializer())\n",
        "\n",
        "#nb_iters - количество шагов для обучения. После каждых 10 шагов проверяется ошибка на тестовой выборке\n",
        "\n",
        "for t in range(nb_iters+1):\n",
        "    train_loss = train_batch(batch_size)\n",
        "    train_losses.append(train_loss)\n",
        "\n",
        "    if t % 10 == 0:\n",
        "        test_loss = test_batch(batch_size, t==nb_iters)\n",
        "        test_losses.append(test_loss)\n",
        "        print(\"Step {}/{}, train loss: {}, \\tTEST loss: {}\".format(t, nb_iters , train_loss , test_loss))\n",
        "\n",
        "print(\"Final:. train loss: {}, \\tTEST loss: {}\".format(train_loss , test_loss))"
      ],
      "execution_count": 12,
      "outputs": [
        {
          "output_type": "stream",
          "text": [
            "Step 0/2000, train loss: 69.037109375, \tTEST loss: 97.51499938964844\n",
            "Step 10/2000, train loss: 2.1407933235168457, \tTEST loss: 1.123275876045227\n",
            "Step 20/2000, train loss: 4.722875595092773, \tTEST loss: 3.2555036544799805\n",
            "Step 30/2000, train loss: 1.9203239679336548, \tTEST loss: 7.182156562805176\n",
            "Step 40/2000, train loss: 2.23557710647583, \tTEST loss: 3.215587854385376\n",
            "Step 50/2000, train loss: 3.075899600982666, \tTEST loss: 1.447604775428772\n",
            "Step 60/2000, train loss: 2.853654623031616, \tTEST loss: 2.0652003288269043\n",
            "Step 70/2000, train loss: 2.7948129177093506, \tTEST loss: 4.033289432525635\n",
            "Step 80/2000, train loss: 1.7653477191925049, \tTEST loss: 1.0137522220611572\n",
            "Step 90/2000, train loss: 1.2829091548919678, \tTEST loss: 2.0269384384155273\n",
            "Step 100/2000, train loss: 0.830704927444458, \tTEST loss: 1.116783857345581\n",
            "Step 110/2000, train loss: 1.7938275337219238, \tTEST loss: 1.6646419763565063\n",
            "Step 120/2000, train loss: 0.8148797750473022, \tTEST loss: 0.9012430310249329\n",
            "Step 130/2000, train loss: 0.6412656307220459, \tTEST loss: 0.7825533151626587\n",
            "Step 140/2000, train loss: 1.8003500699996948, \tTEST loss: 1.3655164241790771\n",
            "Step 150/2000, train loss: 1.134660005569458, \tTEST loss: 1.852623701095581\n",
            "Step 160/2000, train loss: 1.8740262985229492, \tTEST loss: 0.9929969310760498\n",
            "Step 170/2000, train loss: 0.7897956371307373, \tTEST loss: 1.3201863765716553\n",
            "Step 180/2000, train loss: 1.830512523651123, \tTEST loss: 0.7880390882492065\n",
            "Step 190/2000, train loss: 0.9971128106117249, \tTEST loss: 1.5453225374221802\n",
            "Step 200/2000, train loss: 0.398860365152359, \tTEST loss: 0.6664254665374756\n",
            "Step 210/2000, train loss: 0.6653997898101807, \tTEST loss: 0.5916845798492432\n",
            "Step 220/2000, train loss: 0.8338478207588196, \tTEST loss: 0.9080823063850403\n",
            "Step 230/2000, train loss: 0.910167932510376, \tTEST loss: 0.6901687383651733\n",
            "Step 240/2000, train loss: 1.1047002077102661, \tTEST loss: 1.5425610542297363\n",
            "Step 250/2000, train loss: 0.39144083857536316, \tTEST loss: 0.40323635935783386\n",
            "Step 260/2000, train loss: 0.3736140727996826, \tTEST loss: 0.3664594888687134\n",
            "Step 270/2000, train loss: 0.3855056166648865, \tTEST loss: 0.44541215896606445\n",
            "Step 280/2000, train loss: 0.8574915528297424, \tTEST loss: 1.1863727569580078\n",
            "Step 290/2000, train loss: 0.3487010598182678, \tTEST loss: 0.343570351600647\n",
            "Step 300/2000, train loss: 0.6627674102783203, \tTEST loss: 0.5879932045936584\n",
            "Step 310/2000, train loss: 1.6160391569137573, \tTEST loss: 1.0728431940078735\n",
            "Step 320/2000, train loss: 0.6867189407348633, \tTEST loss: 0.9657927751541138\n",
            "Step 330/2000, train loss: 0.7595308423042297, \tTEST loss: 0.7205986380577087\n",
            "Step 340/2000, train loss: 0.5291104316711426, \tTEST loss: 0.49109765887260437\n",
            "Step 350/2000, train loss: 0.7619944214820862, \tTEST loss: 1.0768877267837524\n",
            "Step 360/2000, train loss: 0.8880912065505981, \tTEST loss: 0.7233800888061523\n",
            "Step 370/2000, train loss: 0.3742896318435669, \tTEST loss: 0.6164869070053101\n",
            "Step 380/2000, train loss: 0.40113526582717896, \tTEST loss: 0.5263827443122864\n",
            "Step 390/2000, train loss: 0.8136080503463745, \tTEST loss: 0.7063091397285461\n",
            "Step 400/2000, train loss: 0.7317986488342285, \tTEST loss: 0.6498941779136658\n",
            "Step 410/2000, train loss: 0.3431164026260376, \tTEST loss: 0.6787707209587097\n",
            "Step 420/2000, train loss: 1.2026004791259766, \tTEST loss: 1.3563898801803589\n",
            "Step 430/2000, train loss: 0.4080979824066162, \tTEST loss: 0.49567556381225586\n",
            "Step 440/2000, train loss: 0.6448701620101929, \tTEST loss: 0.5174867510795593\n",
            "Step 450/2000, train loss: 0.8587517142295837, \tTEST loss: 0.7873517870903015\n",
            "Step 460/2000, train loss: 0.6074463129043579, \tTEST loss: 0.6536284685134888\n",
            "Step 470/2000, train loss: 0.766679048538208, \tTEST loss: 0.7848778367042542\n",
            "Step 480/2000, train loss: 0.5633512139320374, \tTEST loss: 0.8838435411453247\n",
            "Step 490/2000, train loss: 0.7595441341400146, \tTEST loss: 1.2450639009475708\n",
            "Step 500/2000, train loss: 1.131163477897644, \tTEST loss: 1.2901983261108398\n",
            "Step 510/2000, train loss: 1.9413177967071533, \tTEST loss: 1.3095636367797852\n",
            "Step 520/2000, train loss: 0.9222277998924255, \tTEST loss: 1.247061014175415\n",
            "Step 530/2000, train loss: 0.7112020254135132, \tTEST loss: 0.39289528131484985\n",
            "Step 540/2000, train loss: 1.4406929016113281, \tTEST loss: 1.957839846611023\n",
            "Step 550/2000, train loss: 0.6037294864654541, \tTEST loss: 0.588799238204956\n",
            "Step 560/2000, train loss: 0.8729196786880493, \tTEST loss: 1.359565019607544\n",
            "Step 570/2000, train loss: 0.5965182781219482, \tTEST loss: 0.8045580387115479\n",
            "Step 580/2000, train loss: 0.40829843282699585, \tTEST loss: 0.4945208728313446\n",
            "Step 590/2000, train loss: 0.9240657091140747, \tTEST loss: 1.5736604928970337\n",
            "Step 600/2000, train loss: 0.3418799042701721, \tTEST loss: 0.3086930215358734\n",
            "Step 610/2000, train loss: 0.8292129039764404, \tTEST loss: 0.525941789150238\n",
            "Step 620/2000, train loss: 0.6482690572738647, \tTEST loss: 0.48175859451293945\n",
            "Step 630/2000, train loss: 0.5677328705787659, \tTEST loss: 0.933093786239624\n",
            "Step 640/2000, train loss: 0.5218766927719116, \tTEST loss: 0.9717869758605957\n",
            "Step 650/2000, train loss: 0.39899641275405884, \tTEST loss: 0.4579625427722931\n",
            "Step 660/2000, train loss: 0.848228931427002, \tTEST loss: 0.7458853721618652\n",
            "Step 670/2000, train loss: 0.5932674407958984, \tTEST loss: 0.7575807571411133\n",
            "Step 680/2000, train loss: 0.7479831576347351, \tTEST loss: 0.7660749554634094\n",
            "Step 690/2000, train loss: 0.5696539878845215, \tTEST loss: 0.3845411539077759\n",
            "Step 700/2000, train loss: 0.41897040605545044, \tTEST loss: 0.5243629813194275\n",
            "Step 710/2000, train loss: 0.8557294607162476, \tTEST loss: 0.45192527770996094\n",
            "Step 720/2000, train loss: 0.6022511720657349, \tTEST loss: 0.7301070094108582\n",
            "Step 730/2000, train loss: 0.4175073504447937, \tTEST loss: 0.4813041090965271\n",
            "Step 740/2000, train loss: 0.45353561639785767, \tTEST loss: 0.38814496994018555\n",
            "Step 750/2000, train loss: 0.4254642128944397, \tTEST loss: 0.5222275257110596\n",
            "Step 760/2000, train loss: 0.5515865087509155, \tTEST loss: 0.6820886135101318\n",
            "Step 770/2000, train loss: 0.665047287940979, \tTEST loss: 0.6328203678131104\n",
            "Step 780/2000, train loss: 0.5805549621582031, \tTEST loss: 0.3619078993797302\n",
            "Step 790/2000, train loss: 0.5687597990036011, \tTEST loss: 0.5927398204803467\n",
            "Step 800/2000, train loss: 0.46318215131759644, \tTEST loss: 0.6079939603805542\n",
            "Step 810/2000, train loss: 0.44850295782089233, \tTEST loss: 0.4989531636238098\n",
            "Step 820/2000, train loss: 1.0405694246292114, \tTEST loss: 0.4924575090408325\n",
            "Step 830/2000, train loss: 0.745482325553894, \tTEST loss: 0.7250980138778687\n",
            "Step 840/2000, train loss: 0.6671265363693237, \tTEST loss: 0.6700158715248108\n",
            "Step 850/2000, train loss: 0.4991059899330139, \tTEST loss: 0.46435070037841797\n",
            "Step 860/2000, train loss: 0.6086777448654175, \tTEST loss: 0.5051659345626831\n",
            "Step 870/2000, train loss: 1.0928840637207031, \tTEST loss: 0.7439755201339722\n",
            "Step 880/2000, train loss: 0.4262775182723999, \tTEST loss: 0.4720748960971832\n",
            "Step 890/2000, train loss: 0.5678178668022156, \tTEST loss: 0.4414174258708954\n",
            "Step 900/2000, train loss: 0.6018189191818237, \tTEST loss: 0.4044094383716583\n",
            "Step 910/2000, train loss: 0.6112238168716431, \tTEST loss: 0.5411626100540161\n",
            "Step 920/2000, train loss: 0.4468560516834259, \tTEST loss: 0.7939737439155579\n",
            "Step 930/2000, train loss: 0.30134448409080505, \tTEST loss: 0.3024204969406128\n",
            "Step 940/2000, train loss: 0.5703012347221375, \tTEST loss: 0.5754399299621582\n",
            "Step 950/2000, train loss: 0.5759238004684448, \tTEST loss: 0.5449256300926208\n",
            "Step 960/2000, train loss: 0.438301146030426, \tTEST loss: 0.7092283964157104\n",
            "Step 970/2000, train loss: 0.4410891532897949, \tTEST loss: 0.7742627263069153\n",
            "Step 980/2000, train loss: 0.43264615535736084, \tTEST loss: 0.4778035581111908\n",
            "Step 990/2000, train loss: 0.8952184915542603, \tTEST loss: 0.9948021173477173\n",
            "Step 1000/2000, train loss: 0.4108348488807678, \tTEST loss: 0.49932533502578735\n",
            "Step 1010/2000, train loss: 0.500210165977478, \tTEST loss: 0.5175137519836426\n",
            "Step 1020/2000, train loss: 0.4036293029785156, \tTEST loss: 0.49569573998451233\n",
            "Step 1030/2000, train loss: 0.8419673442840576, \tTEST loss: 0.6600543856620789\n",
            "Step 1040/2000, train loss: 0.5621070265769958, \tTEST loss: 0.44189202785491943\n",
            "Step 1050/2000, train loss: 0.6389914751052856, \tTEST loss: 0.6918185949325562\n",
            "Step 1060/2000, train loss: 0.3674581050872803, \tTEST loss: 0.3381335139274597\n",
            "Step 1070/2000, train loss: 0.6891646981239319, \tTEST loss: 0.35945308208465576\n",
            "Step 1080/2000, train loss: 0.7789583206176758, \tTEST loss: 0.8854487538337708\n",
            "Step 1090/2000, train loss: 0.3291013836860657, \tTEST loss: 0.41284504532814026\n",
            "Step 1100/2000, train loss: 0.47659897804260254, \tTEST loss: 0.6300837397575378\n",
            "Step 1110/2000, train loss: 0.699836015701294, \tTEST loss: 0.6659958362579346\n",
            "Step 1120/2000, train loss: 0.9302408695220947, \tTEST loss: 0.8987679481506348\n",
            "Step 1130/2000, train loss: 0.572441577911377, \tTEST loss: 0.5276691317558289\n",
            "Step 1140/2000, train loss: 0.3592921495437622, \tTEST loss: 0.3861013650894165\n",
            "Step 1150/2000, train loss: 0.4724804759025574, \tTEST loss: 0.5435624122619629\n",
            "Step 1160/2000, train loss: 0.38134098052978516, \tTEST loss: 0.6272626519203186\n",
            "Step 1170/2000, train loss: 0.9232838153839111, \tTEST loss: 0.7554959058761597\n",
            "Step 1180/2000, train loss: 0.4965253472328186, \tTEST loss: 0.4347298741340637\n",
            "Step 1190/2000, train loss: 0.9772632122039795, \tTEST loss: 1.1377537250518799\n",
            "Step 1200/2000, train loss: 0.4783114194869995, \tTEST loss: 0.5176206827163696\n",
            "Step 1210/2000, train loss: 0.9131841659545898, \tTEST loss: 0.3582442104816437\n",
            "Step 1220/2000, train loss: 0.3687647581100464, \tTEST loss: 0.3799206018447876\n",
            "Step 1230/2000, train loss: 0.8176502585411072, \tTEST loss: 0.4958478808403015\n",
            "Step 1240/2000, train loss: 0.45618772506713867, \tTEST loss: 0.4338340163230896\n",
            "Step 1250/2000, train loss: 0.31191807985305786, \tTEST loss: 0.23419611155986786\n",
            "Step 1260/2000, train loss: 0.4574921131134033, \tTEST loss: 0.877478837966919\n",
            "Step 1270/2000, train loss: 0.3993470072746277, \tTEST loss: 0.4005250036716461\n",
            "Step 1280/2000, train loss: 0.33826082944869995, \tTEST loss: 0.39845582842826843\n",
            "Step 1290/2000, train loss: 0.413097083568573, \tTEST loss: 0.5722354054450989\n",
            "Step 1300/2000, train loss: 0.3940914571285248, \tTEST loss: 0.3349628150463104\n",
            "Step 1310/2000, train loss: 0.9695738554000854, \tTEST loss: 0.4831041991710663\n",
            "Step 1320/2000, train loss: 0.44598647952079773, \tTEST loss: 0.7786415219306946\n",
            "Step 1330/2000, train loss: 0.4799277186393738, \tTEST loss: 0.6641263961791992\n",
            "Step 1340/2000, train loss: 0.4870835542678833, \tTEST loss: 0.5076978802680969\n",
            "Step 1350/2000, train loss: 0.4795181155204773, \tTEST loss: 0.7500633001327515\n",
            "Step 1360/2000, train loss: 0.555754542350769, \tTEST loss: 0.6958600282669067\n",
            "Step 1370/2000, train loss: 0.532050609588623, \tTEST loss: 0.6604411005973816\n",
            "Step 1380/2000, train loss: 0.6332001090049744, \tTEST loss: 0.6445716619491577\n",
            "Step 1390/2000, train loss: 0.4701000452041626, \tTEST loss: 0.4219728112220764\n",
            "Step 1400/2000, train loss: 1.3614771366119385, \tTEST loss: 1.1683564186096191\n",
            "Step 1410/2000, train loss: 0.7586168050765991, \tTEST loss: 0.4545108675956726\n",
            "Step 1420/2000, train loss: 0.3569507598876953, \tTEST loss: 0.45997369289398193\n",
            "Step 1430/2000, train loss: 0.9950618743896484, \tTEST loss: 0.7987406849861145\n",
            "Step 1440/2000, train loss: 0.38148605823516846, \tTEST loss: 0.6274807453155518\n",
            "Step 1450/2000, train loss: 0.7292541265487671, \tTEST loss: 0.8781012296676636\n",
            "Step 1460/2000, train loss: 0.2926763594150543, \tTEST loss: 0.3280527591705322\n",
            "Step 1470/2000, train loss: 0.7200958132743835, \tTEST loss: 0.794228196144104\n",
            "Step 1480/2000, train loss: 0.7723950147628784, \tTEST loss: 0.946567952632904\n",
            "Step 1490/2000, train loss: 0.6499488353729248, \tTEST loss: 0.9600959420204163\n",
            "Step 1500/2000, train loss: 0.6233499050140381, \tTEST loss: 0.9168411493301392\n",
            "Step 1510/2000, train loss: 0.543785810470581, \tTEST loss: 0.5592848658561707\n",
            "Step 1520/2000, train loss: 1.1638014316558838, \tTEST loss: 0.9015491604804993\n",
            "Step 1530/2000, train loss: 0.8632200360298157, \tTEST loss: 0.383095920085907\n",
            "Step 1540/2000, train loss: 0.7791467905044556, \tTEST loss: 0.6183729767799377\n",
            "Step 1550/2000, train loss: 0.40441304445266724, \tTEST loss: 0.3450841009616852\n",
            "Step 1560/2000, train loss: 0.3760116398334503, \tTEST loss: 0.564795196056366\n",
            "Step 1570/2000, train loss: 0.9074504375457764, \tTEST loss: 0.46896374225616455\n",
            "Step 1580/2000, train loss: 0.3016599714756012, \tTEST loss: 0.5300832390785217\n",
            "Step 1590/2000, train loss: 0.6731459498405457, \tTEST loss: 0.5202175378799438\n",
            "Step 1600/2000, train loss: 0.3567354083061218, \tTEST loss: 0.3083593249320984\n",
            "Step 1610/2000, train loss: 0.8147495985031128, \tTEST loss: 0.6619789600372314\n",
            "Step 1620/2000, train loss: 0.4866909980773926, \tTEST loss: 0.39661818742752075\n",
            "Step 1630/2000, train loss: 0.7794754505157471, \tTEST loss: 0.9394424557685852\n",
            "Step 1640/2000, train loss: 0.3843602240085602, \tTEST loss: 0.6226016283035278\n",
            "Step 1650/2000, train loss: 1.2020336389541626, \tTEST loss: 2.1115410327911377\n",
            "Step 1660/2000, train loss: 0.5749472975730896, \tTEST loss: 0.4104762077331543\n",
            "Step 1670/2000, train loss: 0.7659868001937866, \tTEST loss: 0.4876595139503479\n",
            "Step 1680/2000, train loss: 0.8195660710334778, \tTEST loss: 0.9962690472602844\n",
            "Step 1690/2000, train loss: 0.8247714042663574, \tTEST loss: 0.5641447305679321\n",
            "Step 1700/2000, train loss: 1.4368181228637695, \tTEST loss: 0.8402848243713379\n",
            "Step 1710/2000, train loss: 0.4086849093437195, \tTEST loss: 0.5809270739555359\n",
            "Step 1720/2000, train loss: 0.6799743175506592, \tTEST loss: 0.6781913638114929\n",
            "Step 1730/2000, train loss: 0.532922625541687, \tTEST loss: 0.5106160044670105\n",
            "Step 1740/2000, train loss: 0.3369252681732178, \tTEST loss: 0.355246365070343\n",
            "Step 1750/2000, train loss: 0.9413974285125732, \tTEST loss: 0.42668604850769043\n",
            "Step 1760/2000, train loss: 0.30865591764450073, \tTEST loss: 0.30407512187957764\n",
            "Step 1770/2000, train loss: 0.5314580202102661, \tTEST loss: 0.520699679851532\n",
            "Step 1780/2000, train loss: 0.6253706812858582, \tTEST loss: 0.6763979196548462\n",
            "Step 1790/2000, train loss: 1.072503685951233, \tTEST loss: 0.41940176486968994\n",
            "Step 1800/2000, train loss: 0.44831383228302, \tTEST loss: 0.611059844493866\n",
            "Step 1810/2000, train loss: 0.4915958642959595, \tTEST loss: 0.4265461564064026\n",
            "Step 1820/2000, train loss: 0.572202205657959, \tTEST loss: 1.0527253150939941\n",
            "Step 1830/2000, train loss: 0.45274221897125244, \tTEST loss: 0.5616962313652039\n",
            "Step 1840/2000, train loss: 0.6389560103416443, \tTEST loss: 1.3591078519821167\n",
            "Step 1850/2000, train loss: 0.37596940994262695, \tTEST loss: 0.7271338701248169\n",
            "Step 1860/2000, train loss: 0.43143290281295776, \tTEST loss: 0.5463445782661438\n",
            "Step 1870/2000, train loss: 0.40274208784103394, \tTEST loss: 0.36192384362220764\n",
            "Step 1880/2000, train loss: 0.35130956768989563, \tTEST loss: 0.3753729462623596\n",
            "Step 1890/2000, train loss: 0.49615854024887085, \tTEST loss: 0.5386217832565308\n",
            "Step 1900/2000, train loss: 0.4375348687171936, \tTEST loss: 0.5793073773384094\n",
            "Step 1910/2000, train loss: 0.7102106809616089, \tTEST loss: 1.3544976711273193\n",
            "Step 1920/2000, train loss: 0.465831995010376, \tTEST loss: 0.49491268396377563\n",
            "Step 1930/2000, train loss: 0.6083434820175171, \tTEST loss: 0.9060791730880737\n",
            "Step 1940/2000, train loss: 0.4659798741340637, \tTEST loss: 0.8610268831253052\n",
            "Step 1950/2000, train loss: 0.3753465414047241, \tTEST loss: 0.45772862434387207\n",
            "Step 1960/2000, train loss: 0.6576866507530212, \tTEST loss: 1.0313727855682373\n",
            "Step 1970/2000, train loss: 0.36850959062576294, \tTEST loss: 0.41760605573654175\n",
            "Step 1980/2000, train loss: 0.5062758922576904, \tTEST loss: 0.33761391043663025\n",
            "Step 1990/2000, train loss: 0.9485740661621094, \tTEST loss: 0.9971284866333008\n",
            "Step 2000/2000, train loss: 0.5150599479675293, \tTEST loss: 0.24870669841766357\n",
            "Final:. train loss: 0.5150599479675293, \tTEST loss: 0.24870669841766357\n"
          ],
          "name": "stdout"
        }
      ]
    },
    {
      "cell_type": "code",
      "metadata": {
        "id": "J8uDKdUDrwlr",
        "colab_type": "code",
        "colab": {
          "base_uri": "https://localhost:8080/",
          "height": 404
        },
        "outputId": "fa683ebe-39c0-4900-b88a-3a72766b0fd3"
      },
      "source": [
        "\n",
        "plt.figure(figsize=(12, 6))\n",
        "plt.plot( np.array(range(0, len(test_losses)))/float(len(test_losses)-1)*(len(train_losses)-1), np.log(test_losses), label=\"Test loss\")\n",
        "plt.plot(np.log(train_losses), label=\"Train loss\")\n",
        "\n",
        "plt.title(\"error vs time (log scale)\") \n",
        "plt.legend([\"Test\",\"Train\"])\n",
        "plt.xlabel('iter')\n",
        "plt.ylabel('log(Loss)') \n",
        "plt.show()"
      ],
      "execution_count": 13,
      "outputs": [
        {
          "output_type": "display_data",
          "data": {
            "image/png": "[encoded data removed]",
            "text/plain": [
              "<Figure size 864x432 with 1 Axes>"
            ]
          },
          "metadata": {
            "tags": [],
            "needs_background": "light"
          }
        }
      ]
    },
    {
      "cell_type": "code",
      "metadata": {
        "id": "NnVAtYvIr22T",
        "colab_type": "code",
        "colab": {
          "base_uri": "https://localhost:8080/",
          "height": 490
        },
        "outputId": "09bae78b-649f-4361-93f1-2dc797c719ac"
      },
      "source": [
        "nb_predictions = 1\n",
        "print (\" Let 's visualize {} predictions with our signals :\". format (nb_predictions ))\n",
        "X, Y = generate_x_y_data_v1( isTrain =False , batch_size = nb_predictions )\n",
        "feed_dict = { enc_inp [t]: X[t] for t in range ( seq_length )}\n",
        "outputs = np.array( sess.run([ reshaped_outputs ], feed_dict )[0])\n",
        "# выводим предсказания по каждому пакету\n",
        "for j in range ( nb_predictions ):\n",
        "    plt.figure( figsize =(12 , 3))\n",
        "    for k in range ( output_dim ):\n",
        "        past = X[:,j,k]\n",
        "        expected = Y[:,j,k]\n",
        "        pred = outputs [:,j,k]\n",
        "    label1 = \" Seen ( past ) values \" if k ==0 else \" _nolegend_ \"\n",
        "    label2 = \" True future values \" if k ==0 else \" _nolegend_ \"\n",
        "    label3 = \" Predictions \" if k ==0 else \" _nolegend_ \"\n",
        "    plt.plot(range(len(past)), past , \"o--b\", label = label1 )\n",
        "    plt.plot(range(len(past),len(expected)+len(past)), expected, \"x--b\", label = label2)\n",
        "    plt.plot(range(len(past),len(pred) + len (past)), pred , \"o--y\", label = label3 )\n",
        "    plt.legend( loc ='best ')\n",
        "    plt.title(\" Predictions v.s. true values \")\n",
        "    plt.show()"
      ],
      "execution_count": 14,
      "outputs": [
        {
          "output_type": "stream",
          "text": [
            " Let 's visualize 1 predictions with our signals :\n"
          ],
          "name": "stdout"
        },
        {
          "output_type": "stream",
          "text": [
            "/usr/local/lib/python3.6/dist-packages/ipykernel_launcher.py:19: MatplotlibDeprecationWarning: Unrecognized location 'best '. Falling back on 'best'; valid locations are\n",
            "\tbest\n",
            "\tupper right\n",
            "\tupper left\n",
            "\tlower left\n",
            "\tlower right\n",
            "\tright\n",
            "\tcenter left\n",
            "\tcenter right\n",
            "\tlower center\n",
            "\tupper center\n",
            "\tcenter\n",
            "This will raise an exception in 3.3.\n"
          ],
          "name": "stderr"
        },
        {
          "output_type": "display_data",
          "data": {
            "image/png": "[encoded data removed]",
            "text/plain": [
              "<Figure size 864x216 with 1 Axes>"
            ]
          },
          "metadata": {
            "tags": [],
            "needs_background": "light"
          }
        }
      ]
    }
  ]
}