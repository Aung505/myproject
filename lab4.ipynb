{
  "nbformat": 4,
  "nbformat_minor": 0,
  "metadata": {
    "colab": {
      "name": "Untitled8.ipynb",
      "provenance": [],
      "authorship_tag": "ABX9TyMXdVPuzDpJktvfOhaACMTc",
      "include_colab_link": true
    },
    "kernelspec": {
      "name": "python3",
      "display_name": "Python 3"
    }
  },
  "cells": [
    {
      "cell_type": "markdown",
      "metadata": {
        "id": "view-in-github",
        "colab_type": "text"
      },
      "source": [
        "<a href=\"https://colab.research.google.com/github/Aung505/myproject/blob/master/lab4.ipynb\" target=\"_parent\"><img src=\"https://colab.research.google.com/assets/colab-badge.svg\" alt=\"Open In Colab\"/></a>"
      ]
    },
    {
      "cell_type": "code",
      "metadata": {
        "id": "eEsWsrLSNkA8",
        "colab_type": "code",
        "colab": {}
      },
      "source": [
        "from datetime import datetime \n",
        "import matplotlib.pyplot as plt \n",
        "import numpy as np \n",
        "import pandas as pd \n",
        "from sklearn.metrics import mean_absolute_error \n",
        "from sklearn.metrics import median_absolute_error, r2_score \n",
        "from sklearn.model_selection import GridSearchCV \n",
        "from sklearn.model_selection import KFold, RepeatedKFold, ShuffleSplit \n",
        "from sklearn.model_selection import cross_val_score, train_test_split \n",
        "from sklearn.model_selection import learning_curve, validation_curve \n",
        "from sklearn.neighbors import KNeighborsRegressor \n",
        "from sklearn.preprocessing import StandardScaler \n",
        "# Enable inline plots \n",
        "%matplotlib inline \n",
        "# Set plots formats to save high resolution PNG \n",
        "from IPython.display import set_matplotlib_formats \n",
        "set_matplotlib_formats(\"retina\")\n"
      ],
      "execution_count": 0,
      "outputs": []
    },
    {
      "cell_type": "code",
      "metadata": {
        "id": "vri3VFRnPCLB",
        "colab_type": "code",
        "colab": {}
      },
      "source": [
        "pd.set_option(\"display.width\", 70) "
      ],
      "execution_count": 0,
      "outputs": []
    },
    {
      "cell_type": "code",
      "metadata": {
        "id": "iQ8nFOEXPIZR",
        "colab_type": "code",
        "colab": {}
      },
      "source": [
        "data = pd.read_csv(\"./SolarPrediction.csv\") "
      ],
      "execution_count": 0,
      "outputs": []
    },
    {
      "cell_type": "code",
      "metadata": {
        "id": "Icp1gxDMPQyC",
        "colab_type": "code",
        "colab": {}
      },
      "source": [
        "data[\"Time\"] = (pd\n",
        "                .to_datetime(data[\"UNIXTime\"], unit=\"s\", utc=True) \n",
        "                .dt.tz_convert(\"Pacific/Honolulu\")).dt.time\n",
        "data[\"TimeSunRise\"] = (pd \n",
        "                       .to_datetime(data[\"TimeSunRise\"], \n",
        "                                    infer_datetime_format=True) \n",
        "                       .dt.time) \n",
        "data[\"TimeSunSet\"] = (pd \n",
        "                      .to_datetime(data[\"TimeSunSet\"], \n",
        "                                   infer_datetime_format=True) \n",
        "                      .dt.time) \n",
        "data = data.rename({\"WindDirection(Degrees)\": \"WindDirection\"}, \n",
        "                   axis=1)  \n"
      ],
      "execution_count": 0,
      "outputs": []
    },
    {
      "cell_type": "code",
      "metadata": {
        "id": "VK3ugSWUPsmp",
        "colab_type": "code",
        "colab": {
          "base_uri": "https://localhost:8080/",
          "height": 225
        },
        "outputId": "8dc3cec3-3298-4451-caed-48d6b28ecb88"
      },
      "source": [
        "data.dtypes "
      ],
      "execution_count": 5,
      "outputs": [
        {
          "output_type": "execute_result",
          "data": {
            "text/plain": [
              "UNIXTime           int64\n",
              "Data              object\n",
              "Time              object\n",
              "Radiation        float64\n",
              "Temperature        int64\n",
              "Pressure         float64\n",
              "Humidity           int64\n",
              "WindDirection    float64\n",
              "Speed            float64\n",
              "TimeSunRise       object\n",
              "TimeSunSet        object\n",
              "dtype: object"
            ]
          },
          "metadata": {
            "tags": []
          },
          "execution_count": 5
        }
      ]
    },
    {
      "cell_type": "code",
      "metadata": {
        "id": "gcsHBz2dPwUh",
        "colab_type": "code",
        "colab": {
          "base_uri": "https://localhost:8080/",
          "height": 395
        },
        "outputId": "39ec1afd-89cc-44e8-fc46-5d9241bb20d9"
      },
      "source": [
        "data.head()\n"
      ],
      "execution_count": 6,
      "outputs": [
        {
          "output_type": "execute_result",
          "data": {
            "text/html": [
              "<div>\n",
              "<style scoped>\n",
              "    .dataframe tbody tr th:only-of-type {\n",
              "        vertical-align: middle;\n",
              "    }\n",
              "\n",
              "    .dataframe tbody tr th {\n",
              "        vertical-align: top;\n",
              "    }\n",
              "\n",
              "    .dataframe thead th {\n",
              "        text-align: right;\n",
              "    }\n",
              "</style>\n",
              "<table border=\"1\" class=\"dataframe\">\n",
              "  <thead>\n",
              "    <tr style=\"text-align: right;\">\n",
              "      <th></th>\n",
              "      <th>UNIXTime</th>\n",
              "      <th>Data</th>\n",
              "      <th>Time</th>\n",
              "      <th>Radiation</th>\n",
              "      <th>Temperature</th>\n",
              "      <th>Pressure</th>\n",
              "      <th>Humidity</th>\n",
              "      <th>WindDirection</th>\n",
              "      <th>Speed</th>\n",
              "      <th>TimeSunRise</th>\n",
              "      <th>TimeSunSet</th>\n",
              "    </tr>\n",
              "  </thead>\n",
              "  <tbody>\n",
              "    <tr>\n",
              "      <th>0</th>\n",
              "      <td>1475229326</td>\n",
              "      <td>9/29/2016 12:00:00 AM</td>\n",
              "      <td>23:55:26</td>\n",
              "      <td>1.21</td>\n",
              "      <td>48</td>\n",
              "      <td>30.46</td>\n",
              "      <td>59</td>\n",
              "      <td>177.39</td>\n",
              "      <td>5.62</td>\n",
              "      <td>06:13:00</td>\n",
              "      <td>18:13:00</td>\n",
              "    </tr>\n",
              "    <tr>\n",
              "      <th>1</th>\n",
              "      <td>1475229023</td>\n",
              "      <td>9/29/2016 12:00:00 AM</td>\n",
              "      <td>23:50:23</td>\n",
              "      <td>1.21</td>\n",
              "      <td>48</td>\n",
              "      <td>30.46</td>\n",
              "      <td>58</td>\n",
              "      <td>176.78</td>\n",
              "      <td>3.37</td>\n",
              "      <td>06:13:00</td>\n",
              "      <td>18:13:00</td>\n",
              "    </tr>\n",
              "    <tr>\n",
              "      <th>2</th>\n",
              "      <td>1475228726</td>\n",
              "      <td>9/29/2016 12:00:00 AM</td>\n",
              "      <td>23:45:26</td>\n",
              "      <td>1.23</td>\n",
              "      <td>48</td>\n",
              "      <td>30.46</td>\n",
              "      <td>57</td>\n",
              "      <td>158.75</td>\n",
              "      <td>3.37</td>\n",
              "      <td>06:13:00</td>\n",
              "      <td>18:13:00</td>\n",
              "    </tr>\n",
              "    <tr>\n",
              "      <th>3</th>\n",
              "      <td>1475228421</td>\n",
              "      <td>9/29/2016 12:00:00 AM</td>\n",
              "      <td>23:40:21</td>\n",
              "      <td>1.21</td>\n",
              "      <td>48</td>\n",
              "      <td>30.46</td>\n",
              "      <td>60</td>\n",
              "      <td>137.71</td>\n",
              "      <td>3.37</td>\n",
              "      <td>06:13:00</td>\n",
              "      <td>18:13:00</td>\n",
              "    </tr>\n",
              "    <tr>\n",
              "      <th>4</th>\n",
              "      <td>1475228124</td>\n",
              "      <td>9/29/2016 12:00:00 AM</td>\n",
              "      <td>23:35:24</td>\n",
              "      <td>1.17</td>\n",
              "      <td>48</td>\n",
              "      <td>30.46</td>\n",
              "      <td>62</td>\n",
              "      <td>104.95</td>\n",
              "      <td>5.62</td>\n",
              "      <td>06:13:00</td>\n",
              "      <td>18:13:00</td>\n",
              "    </tr>\n",
              "  </tbody>\n",
              "</table>\n",
              "</div>"
            ],
            "text/plain": [
              "     UNIXTime                   Data      Time  ...  Speed  TimeSunRise  TimeSunSet\n",
              "0  1475229326  9/29/2016 12:00:00 AM  23:55:26  ...   5.62     06:13:00    18:13:00\n",
              "1  1475229023  9/29/2016 12:00:00 AM  23:50:23  ...   3.37     06:13:00    18:13:00\n",
              "2  1475228726  9/29/2016 12:00:00 AM  23:45:26  ...   3.37     06:13:00    18:13:00\n",
              "3  1475228421  9/29/2016 12:00:00 AM  23:40:21  ...   3.37     06:13:00    18:13:00\n",
              "4  1475228124  9/29/2016 12:00:00 AM  23:35:24  ...   5.62     06:13:00    18:13:00\n",
              "\n",
              "[5 rows x 11 columns]"
            ]
          },
          "metadata": {
            "tags": []
          },
          "execution_count": 6
        }
      ]
    },
    {
      "cell_type": "code",
      "metadata": {
        "id": "Z2k4kCGKPzVa",
        "colab_type": "code",
        "colab": {}
      },
      "source": [
        "def time_to_second(t): \n",
        "  return ((datetime.combine(datetime.min, t) - datetime.min) \n",
        "          .total_seconds()) "
      ],
      "execution_count": 0,
      "outputs": []
    },
    {
      "cell_type": "code",
      "metadata": {
        "id": "37-Woy0pQCZC",
        "colab_type": "code",
        "colab": {
          "base_uri": "https://localhost:8080/",
          "height": 202
        },
        "outputId": "9697d7bf-63aa-449d-98d6-f61dd6b8e088"
      },
      "source": [
        "df = data.copy()\n",
        "timeInSeconds = df[\"Time\"].map(time_to_second) \n",
        "sunrise = df[\"TimeSunRise\"].map(time_to_second) \n",
        "sunset = df[\"TimeSunSet\"].map(time_to_second) \n",
        "df[\"DayPart\"] = (timeInSeconds - sunrise) / (sunset - sunrise)\n",
        "df = df.drop([\"UNIXTime\", \"Data\", \"Time\", \n",
        "              \"TimeSunRise\", \"TimeSunSet\"], axis=1) \n",
        "df.head()  "
      ],
      "execution_count": 10,
      "outputs": [
        {
          "output_type": "execute_result",
          "data": {
            "text/html": [
              "<div>\n",
              "<style scoped>\n",
              "    .dataframe tbody tr th:only-of-type {\n",
              "        vertical-align: middle;\n",
              "    }\n",
              "\n",
              "    .dataframe tbody tr th {\n",
              "        vertical-align: top;\n",
              "    }\n",
              "\n",
              "    .dataframe thead th {\n",
              "        text-align: right;\n",
              "    }\n",
              "</style>\n",
              "<table border=\"1\" class=\"dataframe\">\n",
              "  <thead>\n",
              "    <tr style=\"text-align: right;\">\n",
              "      <th></th>\n",
              "      <th>Radiation</th>\n",
              "      <th>Temperature</th>\n",
              "      <th>Pressure</th>\n",
              "      <th>Humidity</th>\n",
              "      <th>WindDirection</th>\n",
              "      <th>Speed</th>\n",
              "      <th>DayPart</th>\n",
              "    </tr>\n",
              "  </thead>\n",
              "  <tbody>\n",
              "    <tr>\n",
              "      <th>0</th>\n",
              "      <td>1.21</td>\n",
              "      <td>48</td>\n",
              "      <td>30.46</td>\n",
              "      <td>59</td>\n",
              "      <td>177.39</td>\n",
              "      <td>5.62</td>\n",
              "      <td>1.475602</td>\n",
              "    </tr>\n",
              "    <tr>\n",
              "      <th>1</th>\n",
              "      <td>1.21</td>\n",
              "      <td>48</td>\n",
              "      <td>30.46</td>\n",
              "      <td>58</td>\n",
              "      <td>176.78</td>\n",
              "      <td>3.37</td>\n",
              "      <td>1.468588</td>\n",
              "    </tr>\n",
              "    <tr>\n",
              "      <th>2</th>\n",
              "      <td>1.23</td>\n",
              "      <td>48</td>\n",
              "      <td>30.46</td>\n",
              "      <td>57</td>\n",
              "      <td>158.75</td>\n",
              "      <td>3.37</td>\n",
              "      <td>1.461713</td>\n",
              "    </tr>\n",
              "    <tr>\n",
              "      <th>3</th>\n",
              "      <td>1.21</td>\n",
              "      <td>48</td>\n",
              "      <td>30.46</td>\n",
              "      <td>60</td>\n",
              "      <td>137.71</td>\n",
              "      <td>3.37</td>\n",
              "      <td>1.454653</td>\n",
              "    </tr>\n",
              "    <tr>\n",
              "      <th>4</th>\n",
              "      <td>1.17</td>\n",
              "      <td>48</td>\n",
              "      <td>30.46</td>\n",
              "      <td>62</td>\n",
              "      <td>104.95</td>\n",
              "      <td>5.62</td>\n",
              "      <td>1.447778</td>\n",
              "    </tr>\n",
              "  </tbody>\n",
              "</table>\n",
              "</div>"
            ],
            "text/plain": [
              "   Radiation  Temperature  Pressure  Humidity  WindDirection  Speed   DayPart\n",
              "0       1.21           48     30.46        59         177.39   5.62  1.475602\n",
              "1       1.21           48     30.46        58         176.78   3.37  1.468588\n",
              "2       1.23           48     30.46        57         158.75   3.37  1.461713\n",
              "3       1.21           48     30.46        60         137.71   3.37  1.454653\n",
              "4       1.17           48     30.46        62         104.95   5.62  1.447778"
            ]
          },
          "metadata": {
            "tags": []
          },
          "execution_count": 10
        }
      ]
    },
    {
      "cell_type": "code",
      "metadata": {
        "id": "CYRE-6xMQGrB",
        "colab_type": "code",
        "colab": {
          "base_uri": "https://localhost:8080/",
          "height": 156
        },
        "outputId": "7c274c44-e199-4ced-8ccc-6c9423012e62"
      },
      "source": [
        "df.dtypes "
      ],
      "execution_count": 11,
      "outputs": [
        {
          "output_type": "execute_result",
          "data": {
            "text/plain": [
              "Radiation        float64\n",
              "Temperature        int64\n",
              "Pressure         float64\n",
              "Humidity           int64\n",
              "WindDirection    float64\n",
              "Speed            float64\n",
              "DayPart          float64\n",
              "dtype: object"
            ]
          },
          "metadata": {
            "tags": []
          },
          "execution_count": 11
        }
      ]
    },
    {
      "cell_type": "code",
      "metadata": {
        "id": "2GKmZdkbQdCp",
        "colab_type": "code",
        "colab": {
          "base_uri": "https://localhost:8080/",
          "height": 35
        },
        "outputId": "228aaa80-7899-423e-b2ab-a1362053cc43"
      },
      "source": [
        "df.shape "
      ],
      "execution_count": 12,
      "outputs": [
        {
          "output_type": "execute_result",
          "data": {
            "text/plain": [
              "(32686, 7)"
            ]
          },
          "metadata": {
            "tags": []
          },
          "execution_count": 12
        }
      ]
    },
    {
      "cell_type": "code",
      "metadata": {
        "id": "KzGhaKcvQg25",
        "colab_type": "code",
        "colab": {
          "base_uri": "https://localhost:8080/",
          "height": 294
        },
        "outputId": "28b7664e-d223-4f5d-fd1e-e5eead984184"
      },
      "source": [
        "df.describe() "
      ],
      "execution_count": 13,
      "outputs": [
        {
          "output_type": "execute_result",
          "data": {
            "text/html": [
              "<div>\n",
              "<style scoped>\n",
              "    .dataframe tbody tr th:only-of-type {\n",
              "        vertical-align: middle;\n",
              "    }\n",
              "\n",
              "    .dataframe tbody tr th {\n",
              "        vertical-align: top;\n",
              "    }\n",
              "\n",
              "    .dataframe thead th {\n",
              "        text-align: right;\n",
              "    }\n",
              "</style>\n",
              "<table border=\"1\" class=\"dataframe\">\n",
              "  <thead>\n",
              "    <tr style=\"text-align: right;\">\n",
              "      <th></th>\n",
              "      <th>Radiation</th>\n",
              "      <th>Temperature</th>\n",
              "      <th>Pressure</th>\n",
              "      <th>Humidity</th>\n",
              "      <th>WindDirection</th>\n",
              "      <th>Speed</th>\n",
              "      <th>DayPart</th>\n",
              "    </tr>\n",
              "  </thead>\n",
              "  <tbody>\n",
              "    <tr>\n",
              "      <th>count</th>\n",
              "      <td>32686.000000</td>\n",
              "      <td>32686.000000</td>\n",
              "      <td>32686.000000</td>\n",
              "      <td>32686.000000</td>\n",
              "      <td>32686.000000</td>\n",
              "      <td>32686.000000</td>\n",
              "      <td>32686.000000</td>\n",
              "    </tr>\n",
              "    <tr>\n",
              "      <th>mean</th>\n",
              "      <td>207.124697</td>\n",
              "      <td>51.103255</td>\n",
              "      <td>30.422879</td>\n",
              "      <td>75.016307</td>\n",
              "      <td>143.489821</td>\n",
              "      <td>6.243869</td>\n",
              "      <td>0.482959</td>\n",
              "    </tr>\n",
              "    <tr>\n",
              "      <th>std</th>\n",
              "      <td>315.916387</td>\n",
              "      <td>6.201157</td>\n",
              "      <td>0.054673</td>\n",
              "      <td>25.990219</td>\n",
              "      <td>83.167500</td>\n",
              "      <td>3.490474</td>\n",
              "      <td>0.602432</td>\n",
              "    </tr>\n",
              "    <tr>\n",
              "      <th>min</th>\n",
              "      <td>1.110000</td>\n",
              "      <td>34.000000</td>\n",
              "      <td>30.190000</td>\n",
              "      <td>8.000000</td>\n",
              "      <td>0.090000</td>\n",
              "      <td>0.000000</td>\n",
              "      <td>-0.634602</td>\n",
              "    </tr>\n",
              "    <tr>\n",
              "      <th>25%</th>\n",
              "      <td>1.230000</td>\n",
              "      <td>46.000000</td>\n",
              "      <td>30.400000</td>\n",
              "      <td>56.000000</td>\n",
              "      <td>82.227500</td>\n",
              "      <td>3.370000</td>\n",
              "      <td>-0.040139</td>\n",
              "    </tr>\n",
              "    <tr>\n",
              "      <th>50%</th>\n",
              "      <td>2.660000</td>\n",
              "      <td>50.000000</td>\n",
              "      <td>30.430000</td>\n",
              "      <td>85.000000</td>\n",
              "      <td>147.700000</td>\n",
              "      <td>5.620000</td>\n",
              "      <td>0.484332</td>\n",
              "    </tr>\n",
              "    <tr>\n",
              "      <th>75%</th>\n",
              "      <td>354.235000</td>\n",
              "      <td>55.000000</td>\n",
              "      <td>30.460000</td>\n",
              "      <td>97.000000</td>\n",
              "      <td>179.310000</td>\n",
              "      <td>7.870000</td>\n",
              "      <td>1.006038</td>\n",
              "    </tr>\n",
              "    <tr>\n",
              "      <th>max</th>\n",
              "      <td>1601.260000</td>\n",
              "      <td>71.000000</td>\n",
              "      <td>30.560000</td>\n",
              "      <td>103.000000</td>\n",
              "      <td>359.950000</td>\n",
              "      <td>40.500000</td>\n",
              "      <td>1.566061</td>\n",
              "    </tr>\n",
              "  </tbody>\n",
              "</table>\n",
              "</div>"
            ],
            "text/plain": [
              "          Radiation   Temperature  ...         Speed       DayPart\n",
              "count  32686.000000  32686.000000  ...  32686.000000  32686.000000\n",
              "mean     207.124697     51.103255  ...      6.243869      0.482959\n",
              "std      315.916387      6.201157  ...      3.490474      0.602432\n",
              "min        1.110000     34.000000  ...      0.000000     -0.634602\n",
              "25%        1.230000     46.000000  ...      3.370000     -0.040139\n",
              "50%        2.660000     50.000000  ...      5.620000      0.484332\n",
              "75%      354.235000     55.000000  ...      7.870000      1.006038\n",
              "max     1601.260000     71.000000  ...     40.500000      1.566061\n",
              "\n",
              "[8 rows x 7 columns]"
            ]
          },
          "metadata": {
            "tags": []
          },
          "execution_count": 13
        }
      ]
    },
    {
      "cell_type": "code",
      "metadata": {
        "id": "a3E8wo09Qjvo",
        "colab_type": "code",
        "colab": {
          "base_uri": "https://localhost:8080/",
          "height": 156
        },
        "outputId": "dd586e6d-daf3-4ad0-ebe2-f93ef955c9e0"
      },
      "source": [
        "df.isnull().sum()"
      ],
      "execution_count": 14,
      "outputs": [
        {
          "output_type": "execute_result",
          "data": {
            "text/plain": [
              "Radiation        0\n",
              "Temperature      0\n",
              "Pressure         0\n",
              "Humidity         0\n",
              "WindDirection    0\n",
              "Speed            0\n",
              "DayPart          0\n",
              "dtype: int64"
            ]
          },
          "metadata": {
            "tags": []
          },
          "execution_count": 14
        }
      ]
    },
    {
      "cell_type": "code",
      "metadata": {
        "id": "tWsjsjVGQpom",
        "colab_type": "code",
        "colab": {}
      },
      "source": [
        "X = df.drop(\"Radiation\", axis=1) \n",
        "y = df[\"Radiation\"] "
      ],
      "execution_count": 0,
      "outputs": []
    },
    {
      "cell_type": "code",
      "metadata": {
        "id": "YnIDNuNLQveO",
        "colab_type": "code",
        "colab": {
          "base_uri": "https://localhost:8080/",
          "height": 243
        },
        "outputId": "b1e0705c-15b7-477f-aabe-1e8881d7c005"
      },
      "source": [
        "print(X.head(), \"\\n\") \n",
        "print(y.head()) "
      ],
      "execution_count": 16,
      "outputs": [
        {
          "output_type": "stream",
          "text": [
            "   Temperature  Pressure  Humidity  WindDirection  Speed   DayPart\n",
            "0           48     30.46        59         177.39   5.62  1.475602\n",
            "1           48     30.46        58         176.78   3.37  1.468588\n",
            "2           48     30.46        57         158.75   3.37  1.461713\n",
            "3           48     30.46        60         137.71   3.37  1.454653\n",
            "4           48     30.46        62         104.95   5.62  1.447778 \n",
            "\n",
            "0    1.21\n",
            "1    1.21\n",
            "2    1.23\n",
            "3    1.21\n",
            "4    1.17\n",
            "Name: Radiation, dtype: float64\n"
          ],
          "name": "stdout"
        }
      ]
    },
    {
      "cell_type": "code",
      "metadata": {
        "id": "7TpVtGSlQ2er",
        "colab_type": "code",
        "colab": {
          "base_uri": "https://localhost:8080/",
          "height": 52
        },
        "outputId": "06c47a03-2dcb-4cdf-e6a3-ed5b849a6f8e"
      },
      "source": [
        "print(X.shape) \n",
        "print(y.shape) "
      ],
      "execution_count": 17,
      "outputs": [
        {
          "output_type": "stream",
          "text": [
            "(32686, 6)\n",
            "(32686,)\n"
          ],
          "name": "stdout"
        }
      ]
    },
    {
      "cell_type": "code",
      "metadata": {
        "id": "4yh9_IuHQ7wo",
        "colab_type": "code",
        "colab": {
          "base_uri": "https://localhost:8080/",
          "height": 294
        },
        "outputId": "fe32b60f-49bc-4722-eb76-38b4679fa2b2"
      },
      "source": [
        "columns = X.columns \n",
        "scaler = StandardScaler() \n",
        "X = scaler.fit_transform(X) \n",
        "pd.DataFrame(X, columns=columns).describe() "
      ],
      "execution_count": 18,
      "outputs": [
        {
          "output_type": "execute_result",
          "data": {
            "text/html": [
              "<div>\n",
              "<style scoped>\n",
              "    .dataframe tbody tr th:only-of-type {\n",
              "        vertical-align: middle;\n",
              "    }\n",
              "\n",
              "    .dataframe tbody tr th {\n",
              "        vertical-align: top;\n",
              "    }\n",
              "\n",
              "    .dataframe thead th {\n",
              "        text-align: right;\n",
              "    }\n",
              "</style>\n",
              "<table border=\"1\" class=\"dataframe\">\n",
              "  <thead>\n",
              "    <tr style=\"text-align: right;\">\n",
              "      <th></th>\n",
              "      <th>Temperature</th>\n",
              "      <th>Pressure</th>\n",
              "      <th>Humidity</th>\n",
              "      <th>WindDirection</th>\n",
              "      <th>Speed</th>\n",
              "      <th>DayPart</th>\n",
              "    </tr>\n",
              "  </thead>\n",
              "  <tbody>\n",
              "    <tr>\n",
              "      <th>count</th>\n",
              "      <td>3.268600e+04</td>\n",
              "      <td>3.268600e+04</td>\n",
              "      <td>3.268600e+04</td>\n",
              "      <td>3.268600e+04</td>\n",
              "      <td>3.268600e+04</td>\n",
              "      <td>3.268600e+04</td>\n",
              "    </tr>\n",
              "    <tr>\n",
              "      <th>mean</th>\n",
              "      <td>8.257741e-15</td>\n",
              "      <td>-8.589409e-14</td>\n",
              "      <td>9.563964e-16</td>\n",
              "      <td>-6.186353e-16</td>\n",
              "      <td>-2.072571e-14</td>\n",
              "      <td>-2.846377e-17</td>\n",
              "    </tr>\n",
              "    <tr>\n",
              "      <th>std</th>\n",
              "      <td>1.000015e+00</td>\n",
              "      <td>1.000015e+00</td>\n",
              "      <td>1.000015e+00</td>\n",
              "      <td>1.000015e+00</td>\n",
              "      <td>1.000015e+00</td>\n",
              "      <td>1.000015e+00</td>\n",
              "    </tr>\n",
              "    <tr>\n",
              "      <th>min</th>\n",
              "      <td>-2.758117e+00</td>\n",
              "      <td>-4.259540e+00</td>\n",
              "      <td>-2.578560e+00</td>\n",
              "      <td>-1.724255e+00</td>\n",
              "      <td>-1.788859e+00</td>\n",
              "      <td>-1.855112e+00</td>\n",
              "    </tr>\n",
              "    <tr>\n",
              "      <th>25%</th>\n",
              "      <td>-8.229646e-01</td>\n",
              "      <td>-4.184734e-01</td>\n",
              "      <td>-7.316829e-01</td>\n",
              "      <td>-7.366250e-01</td>\n",
              "      <td>-8.233591e-01</td>\n",
              "      <td>-8.683240e-01</td>\n",
              "    </tr>\n",
              "    <tr>\n",
              "      <th>50%</th>\n",
              "      <td>-1.779139e-01</td>\n",
              "      <td>1.302504e-01</td>\n",
              "      <td>3.841386e-01</td>\n",
              "      <td>5.062367e-02</td>\n",
              "      <td>-1.787376e-01</td>\n",
              "      <td>2.279483e-03</td>\n",
              "    </tr>\n",
              "    <tr>\n",
              "      <th>75%</th>\n",
              "      <td>6.283995e-01</td>\n",
              "      <td>6.789742e-01</td>\n",
              "      <td>8.458578e-01</td>\n",
              "      <td>4.307058e-01</td>\n",
              "      <td>4.658840e-01</td>\n",
              "      <td>8.682924e-01</td>\n",
              "    </tr>\n",
              "    <tr>\n",
              "      <th>max</th>\n",
              "      <td>3.208603e+00</td>\n",
              "      <td>2.508053e+00</td>\n",
              "      <td>1.076717e+00</td>\n",
              "      <td>2.602741e+00</td>\n",
              "      <td>9.814329e+00</td>\n",
              "      <td>1.797910e+00</td>\n",
              "    </tr>\n",
              "  </tbody>\n",
              "</table>\n",
              "</div>"
            ],
            "text/plain": [
              "        Temperature      Pressure  ...         Speed       DayPart\n",
              "count  3.268600e+04  3.268600e+04  ...  3.268600e+04  3.268600e+04\n",
              "mean   8.257741e-15 -8.589409e-14  ... -2.072571e-14 -2.846377e-17\n",
              "std    1.000015e+00  1.000015e+00  ...  1.000015e+00  1.000015e+00\n",
              "min   -2.758117e+00 -4.259540e+00  ... -1.788859e+00 -1.855112e+00\n",
              "25%   -8.229646e-01 -4.184734e-01  ... -8.233591e-01 -8.683240e-01\n",
              "50%   -1.779139e-01  1.302504e-01  ... -1.787376e-01  2.279483e-03\n",
              "75%    6.283995e-01  6.789742e-01  ...  4.658840e-01  8.682924e-01\n",
              "max    3.208603e+00  2.508053e+00  ...  9.814329e+00  1.797910e+00\n",
              "\n",
              "[8 rows x 6 columns]"
            ]
          },
          "metadata": {
            "tags": []
          },
          "execution_count": 18
        }
      ]
    },
    {
      "cell_type": "code",
      "metadata": {
        "id": "I5fQpl_nRF7n",
        "colab_type": "code",
        "colab": {}
      },
      "source": [
        " X_train, X_test, y_train, y_test = train_test_split(X, y, \n",
        "                                                     test_size=0.25, random_state=346705925) "
      ],
      "execution_count": 0,
      "outputs": []
    },
    {
      "cell_type": "code",
      "metadata": {
        "id": "Yt5UDcKqRQSS",
        "colab_type": "code",
        "colab": {
          "base_uri": "https://localhost:8080/",
          "height": 87
        },
        "outputId": "65363e8c-dbd3-437d-fd56-45a336db606d"
      },
      "source": [
        "print(X_train.shape) \n",
        "print(X_test.shape) \n",
        "print(y_train.shape) \n",
        "print(y_test.shape) "
      ],
      "execution_count": 20,
      "outputs": [
        {
          "output_type": "stream",
          "text": [
            "(24514, 6)\n",
            "(8172, 6)\n",
            "(24514,)\n",
            "(8172,)\n"
          ],
          "name": "stdout"
        }
      ]
    },
    {
      "cell_type": "code",
      "metadata": {
        "id": "4tkX7sBURWIL",
        "colab_type": "code",
        "colab": {}
      },
      "source": [
        "def test_model(model): \n",
        "  print(\"mean_absolute_error:\", \n",
        "        mean_absolute_error(y_test, model.predict(X_test))) \n",
        "  print(\"median_absolute_error:\", \n",
        "        median_absolute_error(y_test, model.predict(X_test))) \n",
        "  print(\"r2_score:\", \n",
        "        r2_score(y_test, model.predict(X_test))) "
      ],
      "execution_count": 0,
      "outputs": []
    },
    {
      "cell_type": "code",
      "metadata": {
        "id": "zs0rfuU6Rlz4",
        "colab_type": "code",
        "colab": {
          "base_uri": "https://localhost:8080/",
          "height": 69
        },
        "outputId": "6bd0d8de-17a2-4fd2-8a8f-67140c69a0e0"
      },
      "source": [
        "reg_5 = KNeighborsRegressor(n_neighbors=5) \n",
        "reg_5.fit(X_train, y_train) "
      ],
      "execution_count": 23,
      "outputs": [
        {
          "output_type": "execute_result",
          "data": {
            "text/plain": [
              "KNeighborsRegressor(algorithm='auto', leaf_size=30, metric='minkowski',\n",
              "                    metric_params=None, n_jobs=None, n_neighbors=5, p=2,\n",
              "                    weights='uniform')"
            ]
          },
          "metadata": {
            "tags": []
          },
          "execution_count": 23
        }
      ]
    },
    {
      "cell_type": "code",
      "metadata": {
        "id": "HnJ05l_vRovC",
        "colab_type": "code",
        "colab": {
          "base_uri": "https://localhost:8080/",
          "height": 69
        },
        "outputId": "730de1e1-67b6-4412-adcc-2ef9d192b026"
      },
      "source": [
        "test_model(reg_5) "
      ],
      "execution_count": 24,
      "outputs": [
        {
          "output_type": "stream",
          "text": [
            "mean_absolute_error: 55.39857905041605\n",
            "median_absolute_error: 4.017000000000004\n",
            "r2_score: 0.8677873476991447\n"
          ],
          "name": "stdout"
        }
      ]
    },
    {
      "cell_type": "code",
      "metadata": {
        "id": "195nQIGARsXa",
        "colab_type": "code",
        "colab": {
          "base_uri": "https://localhost:8080/",
          "height": 69
        },
        "outputId": "bc7e42cb-d8f5-4924-95ce-f85d5ae81b89"
      },
      "source": [
        "scores = cross_val_score(KNeighborsRegressor(n_neighbors=5), X, y, \n",
        "                         cv=KFold(n_splits=10), scoring=\"r2\") \n",
        "print(scores) \n",
        "print(scores.mean(), \"±\", scores.std()) "
      ],
      "execution_count": 25,
      "outputs": [
        {
          "output_type": "stream",
          "text": [
            "[0.83276085 0.5984654  0.83547149 0.75974839 0.76407458 0.81422383\n",
            " 0.85420738 0.79432111 0.74927049 0.28234327]\n",
            "0.7284886763598686 ± 0.16383980384698185\n"
          ],
          "name": "stdout"
        }
      ]
    },
    {
      "cell_type": "code",
      "metadata": {
        "id": "04tV7s-MR6mA",
        "colab_type": "code",
        "colab": {
          "base_uri": "https://localhost:8080/",
          "height": 69
        },
        "outputId": "7b4dd655-af1d-4b53-a08f-1f1740047550"
      },
      "source": [
        "scores = cross_val_score(KNeighborsRegressor(n_neighbors=5), X, y, \n",
        "                         cv=RepeatedKFold(n_splits=5, n_repeats=2), \n",
        "                         scoring=\"r2\") \n",
        "print(scores) \n",
        "print(scores.mean(), \"±\", scores.std()) "
      ],
      "execution_count": 26,
      "outputs": [
        {
          "output_type": "stream",
          "text": [
            "[0.86667231 0.86771833 0.86415525 0.87244844 0.86110761 0.87163202\n",
            " 0.86363438 0.87625043 0.8656053  0.85716982]\n",
            "0.8666393879461551 ± 0.005373569006072818\n"
          ],
          "name": "stdout"
        }
      ]
    },
    {
      "cell_type": "code",
      "metadata": {
        "id": "SZOAubqfSE3o",
        "colab_type": "code",
        "colab": {
          "base_uri": "https://localhost:8080/",
          "height": 69
        },
        "outputId": "f61a3cdd-3d9e-4b2e-8d04-e9fd1371e03d"
      },
      "source": [
        "scores = cross_val_score(KNeighborsRegressor(n_neighbors=5), X, y, \n",
        "                         cv=ShuffleSplit(n_splits=10), scoring=\"r2\") \n",
        "print(scores) \n",
        "print(scores.mean(), \"±\", scores.std()) "
      ],
      "execution_count": 27,
      "outputs": [
        {
          "output_type": "stream",
          "text": [
            "[0.86809391 0.88020412 0.86968315 0.88191325 0.86811691 0.84997341\n",
            " 0.85822887 0.87727684 0.88554505 0.8696966 ]\n",
            "0.8708732102386758 ± 0.010392405251369159\n"
          ],
          "name": "stdout"
        }
      ]
    },
    {
      "cell_type": "code",
      "metadata": {
        "id": "48wiWz8ESMzS",
        "colab_type": "code",
        "colab": {
          "base_uri": "https://localhost:8080/",
          "height": 52
        },
        "outputId": "56ac7b4f-e4fb-4f19-c4c0-ba185544b913"
      },
      "source": [
        "n_range = np.array(range(1, 50, 2)) \n",
        "tuned_parameters = [{'n_neighbors': n_range}] \n",
        "n_range "
      ],
      "execution_count": 28,
      "outputs": [
        {
          "output_type": "execute_result",
          "data": {
            "text/plain": [
              "array([ 1,  3,  5,  7,  9, 11, 13, 15, 17, 19, 21, 23, 25, 27, 29, 31, 33,\n",
              "       35, 37, 39, 41, 43, 45, 47, 49])"
            ]
          },
          "metadata": {
            "tags": []
          },
          "execution_count": 28
        }
      ]
    },
    {
      "cell_type": "code",
      "metadata": {
        "id": "mMCQE4OfSVxZ",
        "colab_type": "code",
        "colab": {
          "base_uri": "https://localhost:8080/",
          "height": 35
        },
        "outputId": "55a1bab8-0141-4e5d-bd23-20dc65d94e42"
      },
      "source": [
        "gs = GridSearchCV(KNeighborsRegressor(), tuned_parameters, \n",
        "                  cv=ShuffleSplit(n_splits=10), scoring=\"r2\", \n",
        "                  return_train_score=True, n_jobs=-1) \n",
        "gs.fit(X, y) \n",
        "gs.best_params_ "
      ],
      "execution_count": 29,
      "outputs": [
        {
          "output_type": "execute_result",
          "data": {
            "text/plain": [
              "{'n_neighbors': 7}"
            ]
          },
          "metadata": {
            "tags": []
          },
          "execution_count": 29
        }
      ]
    },
    {
      "cell_type": "code",
      "metadata": {
        "id": "NkN_oVWOXNWx",
        "colab_type": "code",
        "colab": {
          "base_uri": "https://localhost:8080/",
          "height": 265
        },
        "outputId": "2c78df2c-4bf6-49c2-9882-f28b17f0352a"
      },
      "source": [
        "plt.plot(n_range, gs.cv_results_[\"mean_train_score\"]);"
      ],
      "execution_count": 30,
      "outputs": [
        {
          "output_type": "display_data",
          "data": {
            "image/png": "[encoded data removed]",
            "text/plain": [
              "<Figure size 432x288 with 1 Axes>"
            ]
          },
          "metadata": {
            "tags": [],
            "image/png": {
              "width": 378,
              "height": 248
            },
            "needs_background": "light"
          }
        }
      ]
    },
    {
      "cell_type": "code",
      "metadata": {
        "id": "f1dQwKSOXT_T",
        "colab_type": "code",
        "colab": {
          "base_uri": "https://localhost:8080/",
          "height": 265
        },
        "outputId": "2f5b91e0-5554-404d-cfc2-c6c8550fdbad"
      },
      "source": [
        "plt.plot(n_range, gs.cv_results_[\"mean_test_score\"]);"
      ],
      "execution_count": 31,
      "outputs": [
        {
          "output_type": "display_data",
          "data": {
            "image/png": "[encoded data removed]",
            "text/plain": [
              "<Figure size 432x288 with 1 Axes>"
            ]
          },
          "metadata": {
            "tags": [],
            "image/png": {
              "width": 378,
              "height": 248
            },
            "needs_background": "light"
          }
        }
      ]
    },
    {
      "cell_type": "code",
      "metadata": {
        "id": "dPqHIZ2qXbs9",
        "colab_type": "code",
        "colab": {
          "base_uri": "https://localhost:8080/",
          "height": 69
        },
        "outputId": "590b3fae-eb11-46b0-d375-73f63410c99f"
      },
      "source": [
        "reg = KNeighborsRegressor(**gs.best_params_) \n",
        "reg.fit(X_train, y_train) \n",
        "test_model(reg) "
      ],
      "execution_count": 32,
      "outputs": [
        {
          "output_type": "stream",
          "text": [
            "mean_absolute_error: 56.07154831829942\n",
            "median_absolute_error: 4.7735714285714295\n",
            "r2_score: 0.8687906728428422\n"
          ],
          "name": "stdout"
        }
      ]
    },
    {
      "cell_type": "code",
      "metadata": {
        "id": "lJ262WAtXjTf",
        "colab_type": "code",
        "colab": {}
      },
      "source": [
        "def plot_learning_curve(estimator, title, X, y, ylim=None, cv=None): \n",
        "  train_sizes=np.linspace(.1, 1.0, 5) \n",
        "  plt.figure() \n",
        "  plt.title(title) \n",
        "  if ylim is not None: \n",
        "    plt.ylim(*ylim) \n",
        "  plt.xlabel(\"Training examples\") \n",
        "  plt.ylabel(\"Score\") \n",
        "  train_sizes, train_scores, test_scores = learning_curve( \n",
        "      estimator, X, y, cv=cv, n_jobs=-1, train_sizes=train_sizes) \n",
        "  train_scores_mean = np.mean(train_scores, axis=1) \n",
        "  train_scores_std = np.std(train_scores, axis=1) \n",
        "  test_scores_mean = np.mean(test_scores, axis=1)\n",
        "  test_scores_std = np.std(test_scores, axis=1) \n",
        "  plt.grid()\n",
        "  plt.fill_between(train_sizes, train_scores_mean - train_scores_std, \n",
        "                   train_scores_mean + train_scores_std, alpha=0.1, \n",
        "                   color=\"r\")\n",
        "  plt.fill_between(train_sizes, test_scores_mean - test_scores_std, \n",
        "                   test_scores_mean + test_scores_std, alpha=0.1, \n",
        "                   color=\"g\")  \n",
        "  plt.plot(train_sizes, train_scores_mean, 'o-', color=\"r\", \n",
        "           label=\"Training score\") \n",
        "  plt.plot(train_sizes, test_scores_mean, 'o-', color=\"g\", \n",
        "           label=\"Cross-validation score\") \n",
        "  plt.legend(loc=\"best\") \n",
        "  return plt "
      ],
      "execution_count": 0,
      "outputs": []
    },
    {
      "cell_type": "code",
      "metadata": {
        "id": "4ZG8yKyGYvy6",
        "colab_type": "code",
        "colab": {
          "base_uri": "https://localhost:8080/",
          "height": 294
        },
        "outputId": "61a7ac87-646b-4e1a-f5bd-0cf4655e6d34"
      },
      "source": [
        "plot_learning_curve(reg, str(gs.best_params_), X, y, \n",
        "                    cv=ShuffleSplit(n_splits=10));"
      ],
      "execution_count": 36,
      "outputs": [
        {
          "output_type": "display_data",
          "data": {
            "image/png": "[encoded data removed]",
            "text/plain": [
              "<Figure size 432x288 with 1 Axes>"
            ]
          },
          "metadata": {
            "tags": [],
            "image/png": {
              "width": 399,
              "height": 277
            },
            "needs_background": "light"
          }
        }
      ]
    },
    {
      "cell_type": "code",
      "metadata": {
        "id": "ESCw3t2yY6so",
        "colab_type": "code",
        "colab": {}
      },
      "source": [
        "def plot_validation_curve(estimator, title, X, y, param_name, param_range, cv, \n",
        "                          scoring=\"accuracy\"):\n",
        "  train_scores, test_scores = validation_curve( \n",
        "      estimator, X, y, param_name=param_name, param_range=param_range, \n",
        "      cv=cv, scoring=scoring, n_jobs=-1) \n",
        "                                               \n",
        "  train_scores_mean = np.mean(train_scores, axis=1) \n",
        "  train_scores_std = np.std(train_scores, axis=1) \n",
        "  test_scores_mean = np.mean(test_scores, axis=1) \n",
        "  test_scores_std = np.std(test_scores, axis=1) \n",
        "  plt.title(title)\n",
        "  plt.xlabel(param_name) \n",
        "  plt.ylabel(\"Score\") \n",
        "  plt.ylim(0.0, 1.1) \n",
        "  lw = 2 \n",
        "  plt.plot(param_range, train_scores_mean, label=\"Training score\", \n",
        "           color=\"darkorange\", lw=lw) \n",
        "  plt.fill_between(param_range, train_scores_mean - train_scores_std, \n",
        "                   train_scores_mean + train_scores_std, alpha=0.2, \n",
        "                   color=\"darkorange\", lw=lw) \n",
        "  plt.plot(param_range, test_scores_mean, label=\"Cross-validation score\", \n",
        "           color=\"navy\", lw=lw) \n",
        "  plt.fill_between(param_range, test_scores_mean - test_scores_std, \n",
        "                   test_scores_mean + test_scores_std, alpha=0.2, \n",
        "                   color=\"navy\", lw=lw) \n",
        "  plt.legend(loc=\"best\") \n",
        "  return plt \n"
      ],
      "execution_count": 0,
      "outputs": []
    },
    {
      "cell_type": "code",
      "metadata": {
        "id": "qp4Fa8NAZqH_",
        "colab_type": "code",
        "colab": {
          "base_uri": "https://localhost:8080/",
          "height": 294
        },
        "outputId": "ad5b3ed1-97f6-4ad5-cc3c-09cb7a4bdf78"
      },
      "source": [
        "plot_validation_curve(KNeighborsRegressor(), \"knn\", X, y, \n",
        "                      param_name=\"n_neighbors\", param_range=n_range, \n",
        "                      cv=ShuffleSplit(n_splits=10), scoring=\"r2\");\n"
      ],
      "execution_count": 39,
      "outputs": [
        {
          "output_type": "display_data",
          "data": {
            "image/png": "[encoded data removed]",
            "text/plain": [
              "<Figure size 432x288 with 1 Axes>"
            ]
          },
          "metadata": {
            "tags": [],
            "image/png": {
              "width": 385,
              "height": 277
            },
            "needs_background": "light"
          }
        }
      ]
    }
  ]
}