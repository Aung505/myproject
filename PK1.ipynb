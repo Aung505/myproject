{
  "nbformat": 4,
  "nbformat_minor": 0,
  "metadata": {
    "colab": {
      "name": "Untitled3.ipynb",
      "provenance": [],
      "authorship_tag": "ABX9TyN6O0ilk2uDOUP9rGmcPnrz",
      "include_colab_link": true
    },
    "kernelspec": {
      "name": "python3",
      "display_name": "Python 3"
    }
  },
  "cells": [
    {
      "cell_type": "markdown",
      "metadata": {
        "id": "view-in-github",
        "colab_type": "text"
      },
      "source": [
        "<a href=\"https://colab.research.google.com/github/Aung505/myproject/blob/master/PK1.ipynb\" target=\"_parent\"><img src=\"https://colab.research.google.com/assets/colab-badge.svg\" alt=\"Open In Colab\"/></a>"
      ]
    },
    {
      "cell_type": "code",
      "metadata": {
        "id": "PdE8cC93ua-a",
        "colab_type": "code",
        "colab": {
          "base_uri": "https://localhost:8080/",
          "height": 72
        },
        "outputId": "5ba3983a-dbbe-4f5d-febb-2b90bdf76bd7"
      },
      "source": [
        " import numpy as np\n",
        " import pandas as pd \n",
        " import seaborn as sns \n",
        " %matplotlib inline "
      ],
      "execution_count": 2,
      "outputs": [
        {
          "output_type": "stream",
          "text": [
            "/usr/local/lib/python3.6/dist-packages/statsmodels/tools/_testing.py:19: FutureWarning: pandas.util.testing is deprecated. Use the functions in the public API at pandas.testing instead.\n",
            "  import pandas.util.testing as tm\n"
          ],
          "name": "stderr"
        }
      ]
    },
    {
      "cell_type": "code",
      "metadata": {
        "id": "udDpK1THuoPv",
        "colab_type": "code",
        "colab": {}
      },
      "source": [
        "data = pd.read_csv(\"dc-wikia-data.csv\") "
      ],
      "execution_count": 0,
      "outputs": []
    },
    {
      "cell_type": "code",
      "metadata": {
        "id": "P9Ylh076uqSj",
        "colab_type": "code",
        "colab": {
          "base_uri": "https://localhost:8080/",
          "height": 260
        },
        "outputId": "e7231bd2-75c3-40b3-8144-57d03f69823d"
      },
      "source": [
        "data.dtypes "
      ],
      "execution_count": 4,
      "outputs": [
        {
          "output_type": "execute_result",
          "data": {
            "text/plain": [
              "page_id               int64\n",
              "name                 object\n",
              "urlslug              object\n",
              "ID                   object\n",
              "ALIGN                object\n",
              "EYE                  object\n",
              "HAIR                 object\n",
              "SEX                  object\n",
              "GSM                  object\n",
              "ALIVE                object\n",
              "APPEARANCES         float64\n",
              "FIRST APPEARANCE     object\n",
              "YEAR                float64\n",
              "dtype: object"
            ]
          },
          "metadata": {
            "tags": []
          },
          "execution_count": 4
        }
      ]
    },
    {
      "cell_type": "code",
      "metadata": {
        "id": "1kMIzrkluxXl",
        "colab_type": "code",
        "colab": {
          "base_uri": "https://localhost:8080/",
          "height": 465
        },
        "outputId": "36de061b-aedf-46cf-dfd5-9bf37effc9c1"
      },
      "source": [
        " data.head() "
      ],
      "execution_count": 5,
      "outputs": [
        {
          "output_type": "execute_result",
          "data": {
            "text/html": [
              "<div>\n",
              "<style scoped>\n",
              "    .dataframe tbody tr th:only-of-type {\n",
              "        vertical-align: middle;\n",
              "    }\n",
              "\n",
              "    .dataframe tbody tr th {\n",
              "        vertical-align: top;\n",
              "    }\n",
              "\n",
              "    .dataframe thead th {\n",
              "        text-align: right;\n",
              "    }\n",
              "</style>\n",
              "<table border=\"1\" class=\"dataframe\">\n",
              "  <thead>\n",
              "    <tr style=\"text-align: right;\">\n",
              "      <th></th>\n",
              "      <th>page_id</th>\n",
              "      <th>name</th>\n",
              "      <th>urlslug</th>\n",
              "      <th>ID</th>\n",
              "      <th>ALIGN</th>\n",
              "      <th>EYE</th>\n",
              "      <th>HAIR</th>\n",
              "      <th>SEX</th>\n",
              "      <th>GSM</th>\n",
              "      <th>ALIVE</th>\n",
              "      <th>APPEARANCES</th>\n",
              "      <th>FIRST APPEARANCE</th>\n",
              "      <th>YEAR</th>\n",
              "    </tr>\n",
              "  </thead>\n",
              "  <tbody>\n",
              "    <tr>\n",
              "      <th>0</th>\n",
              "      <td>1422</td>\n",
              "      <td>Batman (Bruce Wayne)</td>\n",
              "      <td>\\/wiki\\/Batman_(Bruce_Wayne)</td>\n",
              "      <td>Secret Identity</td>\n",
              "      <td>Good Characters</td>\n",
              "      <td>Blue Eyes</td>\n",
              "      <td>Black Hair</td>\n",
              "      <td>Male Characters</td>\n",
              "      <td>NaN</td>\n",
              "      <td>Living Characters</td>\n",
              "      <td>3093.0</td>\n",
              "      <td>1939, May</td>\n",
              "      <td>1939.0</td>\n",
              "    </tr>\n",
              "    <tr>\n",
              "      <th>1</th>\n",
              "      <td>23387</td>\n",
              "      <td>Superman (Clark Kent)</td>\n",
              "      <td>\\/wiki\\/Superman_(Clark_Kent)</td>\n",
              "      <td>Secret Identity</td>\n",
              "      <td>Good Characters</td>\n",
              "      <td>Blue Eyes</td>\n",
              "      <td>Black Hair</td>\n",
              "      <td>Male Characters</td>\n",
              "      <td>NaN</td>\n",
              "      <td>Living Characters</td>\n",
              "      <td>2496.0</td>\n",
              "      <td>1986, October</td>\n",
              "      <td>1986.0</td>\n",
              "    </tr>\n",
              "    <tr>\n",
              "      <th>2</th>\n",
              "      <td>1458</td>\n",
              "      <td>Green Lantern (Hal Jordan)</td>\n",
              "      <td>\\/wiki\\/Green_Lantern_(Hal_Jordan)</td>\n",
              "      <td>Secret Identity</td>\n",
              "      <td>Good Characters</td>\n",
              "      <td>Brown Eyes</td>\n",
              "      <td>Brown Hair</td>\n",
              "      <td>Male Characters</td>\n",
              "      <td>NaN</td>\n",
              "      <td>Living Characters</td>\n",
              "      <td>1565.0</td>\n",
              "      <td>1959, October</td>\n",
              "      <td>1959.0</td>\n",
              "    </tr>\n",
              "    <tr>\n",
              "      <th>3</th>\n",
              "      <td>1659</td>\n",
              "      <td>James Gordon (New Earth)</td>\n",
              "      <td>\\/wiki\\/James_Gordon_(New_Earth)</td>\n",
              "      <td>Public Identity</td>\n",
              "      <td>Good Characters</td>\n",
              "      <td>Brown Eyes</td>\n",
              "      <td>White Hair</td>\n",
              "      <td>Male Characters</td>\n",
              "      <td>NaN</td>\n",
              "      <td>Living Characters</td>\n",
              "      <td>1316.0</td>\n",
              "      <td>1987, February</td>\n",
              "      <td>1987.0</td>\n",
              "    </tr>\n",
              "    <tr>\n",
              "      <th>4</th>\n",
              "      <td>1576</td>\n",
              "      <td>Richard Grayson (New Earth)</td>\n",
              "      <td>\\/wiki\\/Richard_Grayson_(New_Earth)</td>\n",
              "      <td>Secret Identity</td>\n",
              "      <td>Good Characters</td>\n",
              "      <td>Blue Eyes</td>\n",
              "      <td>Black Hair</td>\n",
              "      <td>Male Characters</td>\n",
              "      <td>NaN</td>\n",
              "      <td>Living Characters</td>\n",
              "      <td>1237.0</td>\n",
              "      <td>1940, April</td>\n",
              "      <td>1940.0</td>\n",
              "    </tr>\n",
              "  </tbody>\n",
              "</table>\n",
              "</div>"
            ],
            "text/plain": [
              "   page_id                         name  ... FIRST APPEARANCE    YEAR\n",
              "0     1422         Batman (Bruce Wayne)  ...        1939, May  1939.0\n",
              "1    23387        Superman (Clark Kent)  ...    1986, October  1986.0\n",
              "2     1458   Green Lantern (Hal Jordan)  ...    1959, October  1959.0\n",
              "3     1659     James Gordon (New Earth)  ...   1987, February  1987.0\n",
              "4     1576  Richard Grayson (New Earth)  ...      1940, April  1940.0\n",
              "\n",
              "[5 rows x 13 columns]"
            ]
          },
          "metadata": {
            "tags": []
          },
          "execution_count": 5
        }
      ]
    },
    {
      "cell_type": "code",
      "metadata": {
        "id": "cRiOadT6uzZr",
        "colab_type": "code",
        "colab": {
          "base_uri": "https://localhost:8080/",
          "height": 35
        },
        "outputId": "6e280421-0bbd-49ae-8ca9-fb0e1791bf1a"
      },
      "source": [
        " data.shape "
      ],
      "execution_count": 6,
      "outputs": [
        {
          "output_type": "execute_result",
          "data": {
            "text/plain": [
              "(6896, 13)"
            ]
          },
          "metadata": {
            "tags": []
          },
          "execution_count": 6
        }
      ]
    },
    {
      "cell_type": "code",
      "metadata": {
        "id": "I8_cCU_Zu5QN",
        "colab_type": "code",
        "colab": {
          "base_uri": "https://localhost:8080/",
          "height": 260
        },
        "outputId": "784ecc1a-59fd-4719-ffc5-2f035f7790c4"
      },
      "source": [
        " data.isnull().sum() "
      ],
      "execution_count": 7,
      "outputs": [
        {
          "output_type": "execute_result",
          "data": {
            "text/plain": [
              "page_id                0\n",
              "name                   0\n",
              "urlslug                0\n",
              "ID                  2013\n",
              "ALIGN                601\n",
              "EYE                 3628\n",
              "HAIR                2274\n",
              "SEX                  125\n",
              "GSM                 6832\n",
              "ALIVE                  3\n",
              "APPEARANCES          355\n",
              "FIRST APPEARANCE      69\n",
              "YEAR                  69\n",
              "dtype: int64"
            ]
          },
          "metadata": {
            "tags": []
          },
          "execution_count": 7
        }
      ]
    },
    {
      "cell_type": "code",
      "metadata": {
        "id": "NqzVEi0Ju-7t",
        "colab_type": "code",
        "colab": {}
      },
      "source": [
        " d = data[[\"name\", \"SEX\", \"APPEARANCES\"]]\n",
        " d = d.dropna(axis=0, how=\"any\") "
      ],
      "execution_count": 0,
      "outputs": []
    },
    {
      "cell_type": "code",
      "metadata": {
        "id": "kp8JwkGevEhk",
        "colab_type": "code",
        "colab": {
          "base_uri": "https://localhost:8080/",
          "height": 202
        },
        "outputId": "5abe5fe6-ef07-4a1d-bd6a-bd1a6e417687"
      },
      "source": [
        " d.head() "
      ],
      "execution_count": 10,
      "outputs": [
        {
          "output_type": "execute_result",
          "data": {
            "text/html": [
              "<div>\n",
              "<style scoped>\n",
              "    .dataframe tbody tr th:only-of-type {\n",
              "        vertical-align: middle;\n",
              "    }\n",
              "\n",
              "    .dataframe tbody tr th {\n",
              "        vertical-align: top;\n",
              "    }\n",
              "\n",
              "    .dataframe thead th {\n",
              "        text-align: right;\n",
              "    }\n",
              "</style>\n",
              "<table border=\"1\" class=\"dataframe\">\n",
              "  <thead>\n",
              "    <tr style=\"text-align: right;\">\n",
              "      <th></th>\n",
              "      <th>name</th>\n",
              "      <th>SEX</th>\n",
              "      <th>APPEARANCES</th>\n",
              "    </tr>\n",
              "  </thead>\n",
              "  <tbody>\n",
              "    <tr>\n",
              "      <th>0</th>\n",
              "      <td>Batman (Bruce Wayne)</td>\n",
              "      <td>Male Characters</td>\n",
              "      <td>3093.0</td>\n",
              "    </tr>\n",
              "    <tr>\n",
              "      <th>1</th>\n",
              "      <td>Superman (Clark Kent)</td>\n",
              "      <td>Male Characters</td>\n",
              "      <td>2496.0</td>\n",
              "    </tr>\n",
              "    <tr>\n",
              "      <th>2</th>\n",
              "      <td>Green Lantern (Hal Jordan)</td>\n",
              "      <td>Male Characters</td>\n",
              "      <td>1565.0</td>\n",
              "    </tr>\n",
              "    <tr>\n",
              "      <th>3</th>\n",
              "      <td>James Gordon (New Earth)</td>\n",
              "      <td>Male Characters</td>\n",
              "      <td>1316.0</td>\n",
              "    </tr>\n",
              "    <tr>\n",
              "      <th>4</th>\n",
              "      <td>Richard Grayson (New Earth)</td>\n",
              "      <td>Male Characters</td>\n",
              "      <td>1237.0</td>\n",
              "    </tr>\n",
              "  </tbody>\n",
              "</table>\n",
              "</div>"
            ],
            "text/plain": [
              "                          name              SEX  APPEARANCES\n",
              "0         Batman (Bruce Wayne)  Male Characters       3093.0\n",
              "1        Superman (Clark Kent)  Male Characters       2496.0\n",
              "2   Green Lantern (Hal Jordan)  Male Characters       1565.0\n",
              "3     James Gordon (New Earth)  Male Characters       1316.0\n",
              "4  Richard Grayson (New Earth)  Male Characters       1237.0"
            ]
          },
          "metadata": {
            "tags": []
          },
          "execution_count": 10
        }
      ]
    },
    {
      "cell_type": "code",
      "metadata": {
        "id": "7xKrstpLvH0z",
        "colab_type": "code",
        "colab": {
          "base_uri": "https://localhost:8080/",
          "height": 35
        },
        "outputId": "fab3fa73-2d6a-480a-c09f-d5e791f2018a"
      },
      "source": [
        "d.shape "
      ],
      "execution_count": 11,
      "outputs": [
        {
          "output_type": "execute_result",
          "data": {
            "text/plain": [
              "(6427, 3)"
            ]
          },
          "metadata": {
            "tags": []
          },
          "execution_count": 11
        }
      ]
    },
    {
      "cell_type": "code",
      "metadata": {
        "id": "fNB-v416vQDw",
        "colab_type": "code",
        "colab": {
          "base_uri": "https://localhost:8080/",
          "height": 265
        },
        "outputId": "5236a6bb-d763-48ce-c2f1-7aa5352a5cc2"
      },
      "source": [
        " sns.distplot(d[[\"APPEARANCES\"]]);\n"
      ],
      "execution_count": 12,
      "outputs": [
        {
          "output_type": "display_data",
          "data": {
            "image/png": "[encoded data removed]",
            "text/plain": [
              "<Figure size 432x288 with 1 Axes>"
            ]
          },
          "metadata": {
            "tags": [],
            "needs_background": "light"
          }
        }
      ]
    },
    {
      "cell_type": "code",
      "metadata": {
        "id": "SYyZN8wBvRgD",
        "colab_type": "code",
        "colab": {
          "base_uri": "https://localhost:8080/",
          "height": 283
        },
        "outputId": "9bc45a0f-082f-40e0-e45b-bae1d2cf2c0c"
      },
      "source": [
        " from sklearn.preprocessing import MinMaxScaler\n",
        " sc = MinMaxScaler() \n",
        " sc_data = sc.fit_transform(d[[\"APPEARANCES\"]])\n",
        " sns.distplot(sc_data) "
      ],
      "execution_count": 13,
      "outputs": [
        {
          "output_type": "execute_result",
          "data": {
            "text/plain": [
              "<matplotlib.axes._subplots.AxesSubplot at 0x7f0dd10db400>"
            ]
          },
          "metadata": {
            "tags": []
          },
          "execution_count": 13
        },
        {
          "output_type": "display_data",
          "data": {
            "image/png": "[encoded data removed]",
            "text/plain": [
              "<Figure size 432x288 with 1 Axes>"
            ]
          },
          "metadata": {
            "tags": [],
            "needs_background": "light"
          }
        }
      ]
    },
    {
      "cell_type": "code",
      "metadata": {
        "id": "o7lJxUX3vZnk",
        "colab_type": "code",
        "colab": {}
      },
      "source": [
        " d[\"APPEARANCES_SCALED\"] = sc_data\n"
      ],
      "execution_count": 0,
      "outputs": []
    },
    {
      "cell_type": "code",
      "metadata": {
        "id": "uhpPluMlvefr",
        "colab_type": "code",
        "colab": {}
      },
      "source": [
        " from sklearn.preprocessing import LabelEncoder, OneHotEncoder\n"
      ],
      "execution_count": 0,
      "outputs": []
    },
    {
      "cell_type": "code",
      "metadata": {
        "id": "PQea4IFOvijz",
        "colab_type": "code",
        "colab": {}
      },
      "source": [
        "le = LabelEncoder() \n",
        "sex_le = le.fit_transform(d[\"SEX\"]) "
      ],
      "execution_count": 0,
      "outputs": []
    },
    {
      "cell_type": "code",
      "metadata": {
        "id": "7tEyEaE7vn1_",
        "colab_type": "code",
        "colab": {
          "base_uri": "https://localhost:8080/",
          "height": 35
        },
        "outputId": "70c4beb3-2d45-4520-e5d5-381f74ef10ac"
      },
      "source": [
        " np.unique(sex_le) "
      ],
      "execution_count": 18,
      "outputs": [
        {
          "output_type": "execute_result",
          "data": {
            "text/plain": [
              "array([0, 1, 2, 3])"
            ]
          },
          "metadata": {
            "tags": []
          },
          "execution_count": 18
        }
      ]
    },
    {
      "cell_type": "code",
      "metadata": {
        "id": "ewZTT3DlvrqZ",
        "colab_type": "code",
        "colab": {
          "base_uri": "https://localhost:8080/",
          "height": 52
        },
        "outputId": "1e443239-fc31-4977-c74e-86275219a18b"
      },
      "source": [
        " le.inverse_transform(np.unique(sex_le)) "
      ],
      "execution_count": 19,
      "outputs": [
        {
          "output_type": "execute_result",
          "data": {
            "text/plain": [
              "array(['Female Characters', 'Genderless Characters', 'Male Characters',\n",
              "       'Transgender Characters'], dtype=object)"
            ]
          },
          "metadata": {
            "tags": []
          },
          "execution_count": 19
        }
      ]
    },
    {
      "cell_type": "code",
      "metadata": {
        "id": "8zIV36OAvvnB",
        "colab_type": "code",
        "colab": {}
      },
      "source": [
        " d[\"SEX_INDEX\"] = sex_le "
      ],
      "execution_count": 0,
      "outputs": []
    },
    {
      "cell_type": "code",
      "metadata": {
        "id": "yI76ptcmvyXu",
        "colab_type": "code",
        "colab": {}
      },
      "source": [
        "ohe = OneHotEncoder() \n",
        "sex_ohe = ohe.fit_transform(d[[\"SEX\"]]) "
      ],
      "execution_count": 0,
      "outputs": []
    },
    {
      "cell_type": "code",
      "metadata": {
        "id": "1IZ2ktgPv6cW",
        "colab_type": "code",
        "colab": {
          "base_uri": "https://localhost:8080/",
          "height": 191
        },
        "outputId": "673ca639-717e-4ed9-8719-6378e36ed14e"
      },
      "source": [
        "sex_ohe.todense()[0:10] "
      ],
      "execution_count": 22,
      "outputs": [
        {
          "output_type": "execute_result",
          "data": {
            "text/plain": [
              "matrix([[0., 0., 1., 0.],\n",
              "        [0., 0., 1., 0.],\n",
              "        [0., 0., 1., 0.],\n",
              "        [0., 0., 1., 0.],\n",
              "        [0., 0., 1., 0.],\n",
              "        [1., 0., 0., 0.],\n",
              "        [0., 0., 1., 0.],\n",
              "        [0., 0., 1., 0.],\n",
              "        [1., 0., 0., 0.],\n",
              "        [0., 0., 1., 0.]])"
            ]
          },
          "metadata": {
            "tags": []
          },
          "execution_count": 22
        }
      ]
    },
    {
      "cell_type": "code",
      "metadata": {
        "id": "Bd0Nj9xav-2J",
        "colab_type": "code",
        "colab": {
          "base_uri": "https://localhost:8080/",
          "height": 208
        },
        "outputId": "b135fa96-9abb-4326-d5fb-d51065af124f"
      },
      "source": [
        " d[\"SEX\"].head(10) "
      ],
      "execution_count": 23,
      "outputs": [
        {
          "output_type": "execute_result",
          "data": {
            "text/plain": [
              "0      Male Characters\n",
              "1      Male Characters\n",
              "2      Male Characters\n",
              "3      Male Characters\n",
              "4      Male Characters\n",
              "5    Female Characters\n",
              "6      Male Characters\n",
              "7      Male Characters\n",
              "8    Female Characters\n",
              "9      Male Characters\n",
              "Name: SEX, dtype: object"
            ]
          },
          "metadata": {
            "tags": []
          },
          "execution_count": 23
        }
      ]
    },
    {
      "cell_type": "code",
      "metadata": {
        "id": "1wwGwnkSwDhM",
        "colab_type": "code",
        "colab": {
          "base_uri": "https://localhost:8080/",
          "height": 52
        },
        "outputId": "bcc42f71-07e0-4cab-9ef4-57d766065645"
      },
      "source": [
        " ohe_names = ohe.get_feature_names()\n",
        " ohe_names "
      ],
      "execution_count": 27,
      "outputs": [
        {
          "output_type": "execute_result",
          "data": {
            "text/plain": [
              "array(['x0_Female Characters', 'x0_Genderless Characters',\n",
              "       'x0_Male Characters', 'x0_Transgender Characters'], dtype=object)"
            ]
          },
          "metadata": {
            "tags": []
          },
          "execution_count": 27
        }
      ]
    },
    {
      "cell_type": "code",
      "metadata": {
        "id": "gIr4rVmEwSTR",
        "colab_type": "code",
        "colab": {}
      },
      "source": [
        "for idx, name in enumerate(ohe_names):\n",
        " d[name] = sex_ohe[:, idx].todense() "
      ],
      "execution_count": 0,
      "outputs": []
    },
    {
      "cell_type": "code",
      "metadata": {
        "id": "OZrZG9irwYu4",
        "colab_type": "code",
        "colab": {
          "base_uri": "https://localhost:8080/",
          "height": 861
        },
        "outputId": "abe83a74-b862-436a-8993-44233abcf178"
      },
      "source": [
        "d.head(10) "
      ],
      "execution_count": 30,
      "outputs": [
        {
          "output_type": "execute_result",
          "data": {
            "text/html": [
              "<div>\n",
              "<style scoped>\n",
              "    .dataframe tbody tr th:only-of-type {\n",
              "        vertical-align: middle;\n",
              "    }\n",
              "\n",
              "    .dataframe tbody tr th {\n",
              "        vertical-align: top;\n",
              "    }\n",
              "\n",
              "    .dataframe thead th {\n",
              "        text-align: right;\n",
              "    }\n",
              "</style>\n",
              "<table border=\"1\" class=\"dataframe\">\n",
              "  <thead>\n",
              "    <tr style=\"text-align: right;\">\n",
              "      <th></th>\n",
              "      <th>name</th>\n",
              "      <th>SEX</th>\n",
              "      <th>APPEARANCES</th>\n",
              "      <th>APPEARANCES_SCALED</th>\n",
              "      <th>SEX_INDEX</th>\n",
              "      <th>x0_Female Characters</th>\n",
              "      <th>x0_Genderless Characters</th>\n",
              "      <th>x0_Male Characters</th>\n",
              "      <th>x0_Transgender Characters</th>\n",
              "    </tr>\n",
              "  </thead>\n",
              "  <tbody>\n",
              "    <tr>\n",
              "      <th>0</th>\n",
              "      <td>Batman (Bruce Wayne)</td>\n",
              "      <td>Male Characters</td>\n",
              "      <td>3093.0</td>\n",
              "      <td>1.000000</td>\n",
              "      <td>2</td>\n",
              "      <td>0.0</td>\n",
              "      <td>0.0</td>\n",
              "      <td>1.0</td>\n",
              "      <td>0.0</td>\n",
              "    </tr>\n",
              "    <tr>\n",
              "      <th>1</th>\n",
              "      <td>Superman (Clark Kent)</td>\n",
              "      <td>Male Characters</td>\n",
              "      <td>2496.0</td>\n",
              "      <td>0.806921</td>\n",
              "      <td>2</td>\n",
              "      <td>0.0</td>\n",
              "      <td>0.0</td>\n",
              "      <td>1.0</td>\n",
              "      <td>0.0</td>\n",
              "    </tr>\n",
              "    <tr>\n",
              "      <th>2</th>\n",
              "      <td>Green Lantern (Hal Jordan)</td>\n",
              "      <td>Male Characters</td>\n",
              "      <td>1565.0</td>\n",
              "      <td>0.505821</td>\n",
              "      <td>2</td>\n",
              "      <td>0.0</td>\n",
              "      <td>0.0</td>\n",
              "      <td>1.0</td>\n",
              "      <td>0.0</td>\n",
              "    </tr>\n",
              "    <tr>\n",
              "      <th>3</th>\n",
              "      <td>James Gordon (New Earth)</td>\n",
              "      <td>Male Characters</td>\n",
              "      <td>1316.0</td>\n",
              "      <td>0.425291</td>\n",
              "      <td>2</td>\n",
              "      <td>0.0</td>\n",
              "      <td>0.0</td>\n",
              "      <td>1.0</td>\n",
              "      <td>0.0</td>\n",
              "    </tr>\n",
              "    <tr>\n",
              "      <th>4</th>\n",
              "      <td>Richard Grayson (New Earth)</td>\n",
              "      <td>Male Characters</td>\n",
              "      <td>1237.0</td>\n",
              "      <td>0.399741</td>\n",
              "      <td>2</td>\n",
              "      <td>0.0</td>\n",
              "      <td>0.0</td>\n",
              "      <td>1.0</td>\n",
              "      <td>0.0</td>\n",
              "    </tr>\n",
              "    <tr>\n",
              "      <th>5</th>\n",
              "      <td>Wonder Woman (Diana Prince)</td>\n",
              "      <td>Female Characters</td>\n",
              "      <td>1231.0</td>\n",
              "      <td>0.397801</td>\n",
              "      <td>0</td>\n",
              "      <td>1.0</td>\n",
              "      <td>0.0</td>\n",
              "      <td>0.0</td>\n",
              "      <td>0.0</td>\n",
              "    </tr>\n",
              "    <tr>\n",
              "      <th>6</th>\n",
              "      <td>Aquaman (Arthur Curry)</td>\n",
              "      <td>Male Characters</td>\n",
              "      <td>1121.0</td>\n",
              "      <td>0.362225</td>\n",
              "      <td>2</td>\n",
              "      <td>0.0</td>\n",
              "      <td>0.0</td>\n",
              "      <td>1.0</td>\n",
              "      <td>0.0</td>\n",
              "    </tr>\n",
              "    <tr>\n",
              "      <th>7</th>\n",
              "      <td>Timothy Drake (New Earth)</td>\n",
              "      <td>Male Characters</td>\n",
              "      <td>1095.0</td>\n",
              "      <td>0.353816</td>\n",
              "      <td>2</td>\n",
              "      <td>0.0</td>\n",
              "      <td>0.0</td>\n",
              "      <td>1.0</td>\n",
              "      <td>0.0</td>\n",
              "    </tr>\n",
              "    <tr>\n",
              "      <th>8</th>\n",
              "      <td>Dinah Laurel Lance (New Earth)</td>\n",
              "      <td>Female Characters</td>\n",
              "      <td>1075.0</td>\n",
              "      <td>0.347348</td>\n",
              "      <td>0</td>\n",
              "      <td>1.0</td>\n",
              "      <td>0.0</td>\n",
              "      <td>0.0</td>\n",
              "      <td>0.0</td>\n",
              "    </tr>\n",
              "    <tr>\n",
              "      <th>9</th>\n",
              "      <td>Flash (Barry Allen)</td>\n",
              "      <td>Male Characters</td>\n",
              "      <td>1028.0</td>\n",
              "      <td>0.332147</td>\n",
              "      <td>2</td>\n",
              "      <td>0.0</td>\n",
              "      <td>0.0</td>\n",
              "      <td>1.0</td>\n",
              "      <td>0.0</td>\n",
              "    </tr>\n",
              "  </tbody>\n",
              "</table>\n",
              "</div>"
            ],
            "text/plain": [
              "                             name  ... x0_Transgender Characters\n",
              "0            Batman (Bruce Wayne)  ...                       0.0\n",
              "1           Superman (Clark Kent)  ...                       0.0\n",
              "2      Green Lantern (Hal Jordan)  ...                       0.0\n",
              "3        James Gordon (New Earth)  ...                       0.0\n",
              "4     Richard Grayson (New Earth)  ...                       0.0\n",
              "5     Wonder Woman (Diana Prince)  ...                       0.0\n",
              "6          Aquaman (Arthur Curry)  ...                       0.0\n",
              "7       Timothy Drake (New Earth)  ...                       0.0\n",
              "8  Dinah Laurel Lance (New Earth)  ...                       0.0\n",
              "9             Flash (Barry Allen)  ...                       0.0\n",
              "\n",
              "[10 rows x 9 columns]"
            ]
          },
          "metadata": {
            "tags": []
          },
          "execution_count": 30
        }
      ]
    },
    {
      "cell_type": "code",
      "metadata": {
        "id": "jkqBRTNAwb4_",
        "colab_type": "code",
        "colab": {}
      },
      "source": [
        ""
      ],
      "execution_count": 0,
      "outputs": []
    }
  ]
}