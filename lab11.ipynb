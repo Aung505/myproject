{
  "nbformat": 4,
  "nbformat_minor": 0,
  "metadata": {
    "colab": {
      "name": "Untitled20.ipynb",
      "provenance": [],
      "authorship_tag": "ABX9TyMhwPxvXZiaDJsp7p64M2/G",
      "include_colab_link": true
    },
    "kernelspec": {
      "name": "python3",
      "display_name": "Python 3"
    }
  },
  "cells": [
    {
      "cell_type": "markdown",
      "metadata": {
        "id": "view-in-github",
        "colab_type": "text"
      },
      "source": [
        "<a href=\"https://colab.research.google.com/github/Aung505/myproject/blob/master/lab11.ipynb\" target=\"_parent\"><img src=\"https://colab.research.google.com/assets/colab-badge.svg\" alt=\"Open In Colab\"/></a>"
      ]
    },
    {
      "cell_type": "code",
      "metadata": {
        "id": "htAvtCsDIxSf"
      },
      "source": [
        "from datetime import datetime\r\n",
        "import pandas as pd\r\n",
        "import seaborn as sns"
      ],
      "execution_count": 1,
      "outputs": []
    },
    {
      "cell_type": "code",
      "metadata": {
        "id": "3e3lIQYfJYoP"
      },
      "source": [
        "# Enable inline plots\r\n",
        "%matplotlib inline\r\n",
        "# Set plot style\r\n",
        "sns.set(style=\"ticks\")\r\n",
        "# Set plots formats to save high resolution PNG\r\n",
        "from IPython.display import set_matplotlib_formats\r\n",
        "set_matplotlib_formats(\"retina\")\r\n"
      ],
      "execution_count": 2,
      "outputs": []
    },
    {
      "cell_type": "code",
      "metadata": {
        "id": "Xk8GYHk_JdCe"
      },
      "source": [
        "pd.set_option(\"display.width\", 70)"
      ],
      "execution_count": 3,
      "outputs": []
    },
    {
      "cell_type": "code",
      "metadata": {
        "id": "e3iit0nIJilZ"
      },
      "source": [
        "data = pd.read_csv(\"./SolarPrediction.csv\")\r\n"
      ],
      "execution_count": 4,
      "outputs": []
    },
    {
      "cell_type": "code",
      "metadata": {
        "id": "_H30_nEKJqk6"
      },
      "source": [
        "data[\"UNIXTime\"] = (pd\r\n",
        ".to_datetime(data[\"UNIXTime\"], unit=\"s\", utc=True)\r\n",
        ".dt.tz_convert(\"Pacific/Honolulu\"))\r\n",
        "data[\"Data\"] = data[\"UNIXTime\"].dt.date\r\n",
        "data[\"Time\"] = data[\"UNIXTime\"].dt.time\r\n",
        "data[\"TimeSunRise\"] = (pd\r\n",
        ".to_datetime(data[\"TimeSunRise\"],\r\n",
        "infer_datetime_format=True)\r\n",
        ".dt.time)\r\n",
        "data[\"TimeSunSet\"] = (pd\r\n",
        ".to_datetime(data[\"TimeSunSet\"],\r\n",
        "infer_datetime_format=True)\r\n",
        ".dt.time)\r\n",
        "data = data.rename({\"Data\": \"Date\",\r\n",
        "\"WindDirection(Degrees)\": \"WindDirection\"},\r\n",
        "axis=1)\r\n"
      ],
      "execution_count": 5,
      "outputs": []
    },
    {
      "cell_type": "code",
      "metadata": {
        "colab": {
          "base_uri": "https://localhost:8080/"
        },
        "id": "5u9b6LnsJyA0",
        "outputId": "be0be027-ee23-4493-c395-90462de82bb0"
      },
      "source": [
        "data.dtypes"
      ],
      "execution_count": 6,
      "outputs": [
        {
          "output_type": "execute_result",
          "data": {
            "text/plain": [
              "UNIXTime         datetime64[ns, Pacific/Honolulu]\n",
              "Date                                       object\n",
              "Time                                       object\n",
              "Radiation                                 float64\n",
              "Temperature                                 int64\n",
              "Pressure                                  float64\n",
              "Humidity                                    int64\n",
              "WindDirection                             float64\n",
              "Speed                                     float64\n",
              "TimeSunRise                                object\n",
              "TimeSunSet                                 object\n",
              "dtype: object"
            ]
          },
          "metadata": {
            "tags": []
          },
          "execution_count": 6
        }
      ]
    },
    {
      "cell_type": "code",
      "metadata": {
        "colab": {
          "base_uri": "https://localhost:8080/",
          "height": 482
        },
        "id": "DjZ5At0IJ6NN",
        "outputId": "0b739a0d-bb25-4c81-8690-36459fbb7954"
      },
      "source": [
        "data.head()"
      ],
      "execution_count": 7,
      "outputs": [
        {
          "output_type": "execute_result",
          "data": {
            "text/html": [
              "<div>\n",
              "<style scoped>\n",
              "    .dataframe tbody tr th:only-of-type {\n",
              "        vertical-align: middle;\n",
              "    }\n",
              "\n",
              "    .dataframe tbody tr th {\n",
              "        vertical-align: top;\n",
              "    }\n",
              "\n",
              "    .dataframe thead th {\n",
              "        text-align: right;\n",
              "    }\n",
              "</style>\n",
              "<table border=\"1\" class=\"dataframe\">\n",
              "  <thead>\n",
              "    <tr style=\"text-align: right;\">\n",
              "      <th></th>\n",
              "      <th>UNIXTime</th>\n",
              "      <th>Date</th>\n",
              "      <th>Time</th>\n",
              "      <th>Radiation</th>\n",
              "      <th>Temperature</th>\n",
              "      <th>Pressure</th>\n",
              "      <th>Humidity</th>\n",
              "      <th>WindDirection</th>\n",
              "      <th>Speed</th>\n",
              "      <th>TimeSunRise</th>\n",
              "      <th>TimeSunSet</th>\n",
              "    </tr>\n",
              "  </thead>\n",
              "  <tbody>\n",
              "    <tr>\n",
              "      <th>0</th>\n",
              "      <td>2016-09-29 23:55:26-10:00</td>\n",
              "      <td>2016-09-29</td>\n",
              "      <td>23:55:26</td>\n",
              "      <td>1.21</td>\n",
              "      <td>48</td>\n",
              "      <td>30.46</td>\n",
              "      <td>59</td>\n",
              "      <td>177.39</td>\n",
              "      <td>5.62</td>\n",
              "      <td>06:13:00</td>\n",
              "      <td>18:13:00</td>\n",
              "    </tr>\n",
              "    <tr>\n",
              "      <th>1</th>\n",
              "      <td>2016-09-29 23:50:23-10:00</td>\n",
              "      <td>2016-09-29</td>\n",
              "      <td>23:50:23</td>\n",
              "      <td>1.21</td>\n",
              "      <td>48</td>\n",
              "      <td>30.46</td>\n",
              "      <td>58</td>\n",
              "      <td>176.78</td>\n",
              "      <td>3.37</td>\n",
              "      <td>06:13:00</td>\n",
              "      <td>18:13:00</td>\n",
              "    </tr>\n",
              "    <tr>\n",
              "      <th>2</th>\n",
              "      <td>2016-09-29 23:45:26-10:00</td>\n",
              "      <td>2016-09-29</td>\n",
              "      <td>23:45:26</td>\n",
              "      <td>1.23</td>\n",
              "      <td>48</td>\n",
              "      <td>30.46</td>\n",
              "      <td>57</td>\n",
              "      <td>158.75</td>\n",
              "      <td>3.37</td>\n",
              "      <td>06:13:00</td>\n",
              "      <td>18:13:00</td>\n",
              "    </tr>\n",
              "    <tr>\n",
              "      <th>3</th>\n",
              "      <td>2016-09-29 23:40:21-10:00</td>\n",
              "      <td>2016-09-29</td>\n",
              "      <td>23:40:21</td>\n",
              "      <td>1.21</td>\n",
              "      <td>48</td>\n",
              "      <td>30.46</td>\n",
              "      <td>60</td>\n",
              "      <td>137.71</td>\n",
              "      <td>3.37</td>\n",
              "      <td>06:13:00</td>\n",
              "      <td>18:13:00</td>\n",
              "    </tr>\n",
              "    <tr>\n",
              "      <th>4</th>\n",
              "      <td>2016-09-29 23:35:24-10:00</td>\n",
              "      <td>2016-09-29</td>\n",
              "      <td>23:35:24</td>\n",
              "      <td>1.17</td>\n",
              "      <td>48</td>\n",
              "      <td>30.46</td>\n",
              "      <td>62</td>\n",
              "      <td>104.95</td>\n",
              "      <td>5.62</td>\n",
              "      <td>06:13:00</td>\n",
              "      <td>18:13:00</td>\n",
              "    </tr>\n",
              "  </tbody>\n",
              "</table>\n",
              "</div>"
            ],
            "text/plain": [
              "                   UNIXTime        Date      Time  ...  Speed  TimeSunRise  TimeSunSet\n",
              "0 2016-09-29 23:55:26-10:00  2016-09-29  23:55:26  ...   5.62     06:13:00    18:13:00\n",
              "1 2016-09-29 23:50:23-10:00  2016-09-29  23:50:23  ...   3.37     06:13:00    18:13:00\n",
              "2 2016-09-29 23:45:26-10:00  2016-09-29  23:45:26  ...   3.37     06:13:00    18:13:00\n",
              "3 2016-09-29 23:40:21-10:00  2016-09-29  23:40:21  ...   3.37     06:13:00    18:13:00\n",
              "4 2016-09-29 23:35:24-10:00  2016-09-29  23:35:24  ...   5.62     06:13:00    18:13:00\n",
              "\n",
              "[5 rows x 11 columns]"
            ]
          },
          "metadata": {
            "tags": []
          },
          "execution_count": 7
        }
      ]
    },
    {
      "cell_type": "code",
      "metadata": {
        "id": "QFVdoAoBJ-FO"
      },
      "source": [
        "def time_to_second(t):\r\n",
        "    return ((datetime.combine(datetime.min, t) - datetime.min)\r\n",
        "              .total_seconds())"
      ],
      "execution_count": 10,
      "outputs": []
    }
  ]
}